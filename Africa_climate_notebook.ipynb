{
 "cells": [
  {
   "cell_type": "markdown",
   "metadata": {
    "slideshow": {
     "slide_type": "slide"
    }
   },
   "source": [
    "# Project Africa\n"
   ]
  },
  {
   "cell_type": "markdown",
   "metadata": {},
   "source": [
    "\n",
    "TO DO: GENERAL INTRO HERE\n",
    "\n",
    "use information from papers\n",
    "\n",
    "references\n",
    "\n"
   ]
  },
  {
   "cell_type": "markdown",
   "metadata": {},
   "source": [
    "# Preamble"
   ]
  },
  {
   "cell_type": "code",
   "execution_count": null,
   "metadata": {
    "collapsed": false,
    "slideshow": {
     "slide_type": "skip"
    }
   },
   "outputs": [],
   "source": [
    "# Display the plots in the notebook:\n",
    "%matplotlib inline\n",
    "# Import the tools we are going to need today:\n",
    "import matplotlib.pyplot as plt  # plotting library\n",
    "import numpy as np  # numerical library\n",
    "import xarray as xr  # netCDF library\n",
    "import cartopy  # Map projections libary\n",
    "import cartopy.crs as ccrs  # Projections list\n",
    "# Some defaults:\n",
    "plt.rcParams['figure.figsize'] = (9, 7)  # Default plot size\n",
    "plt.rcParams['axes.formatter.useoffset'] = False\n",
    "np.set_printoptions(threshold=5)  # avoid to print very large arrays on screen\n",
    "# The commands below are to ignore certain warnings.\n",
    "import warnings\n",
    "warnings.filterwarnings('ignore', category=RuntimeWarning)\n",
    "warnings.filterwarnings('ignore', category=RuntimeWarning)\n",
    "#default slices for Africa:\n",
    "lat=slice(38, -38)\n",
    "lat_a=[-37,37]\n",
    "\n",
    "lon=slice(-20, 60)\n",
    "lon_a=[-19,60]\n",
    "\n",
    "# Change  color of TEXT locally with <font color='red'>TEXT</font>"
   ]
  },
  {
   "cell_type": "code",
   "execution_count": null,
   "metadata": {
    "collapsed": false,
    "slideshow": {
     "slide_type": "subslide"
    }
   },
   "outputs": [],
   "source": [
    "def prepare_plot(subplot=[1,1,1],lat=lat_a,lon=lon_a):\n",
    "    \"\"\"This function returns prepared axes for the regional plot.\n",
    "    \n",
    "    Usage:\n",
    "        fig, ax = prepare_plot()\n",
    "    \"\"\"\n",
    "    ax = plt.subplot(subplot[0],subplot[1],subplot[2],projection=ccrs.PlateCarree())\n",
    "    ax.coastlines();\n",
    "    xl = ax.gridlines(draw_labels=True);\n",
    "    xl.xlabels_top = False\n",
    "    xl.ylabels_right = False\n",
    "    ax.add_feature(cartopy.feature.BORDERS, linestyle='-',linewidth=0.3);\n",
    "    ax.set_xlim(lon)\n",
    "    ax.set_ylim(lat)\n",
    "\n",
    "    return ax"
   ]
  },
  {
   "cell_type": "markdown",
   "metadata": {},
   "source": [
    "# Terrain of Africa"
   ]
  },
  {
   "cell_type": "code",
   "execution_count": null,
   "metadata": {
    "collapsed": false,
    "slideshow": {
     "slide_type": "slide"
    }
   },
   "outputs": [],
   "source": [
    "inv = xr.open_dataset('./data/ERA-Int-Invariant.nc').sel(latitude=lat,longitude=lon)\n",
    "z=inv.z/9.81\n",
    "z=z*inv.lsm\n",
    "ax = prepare_plot()\n",
    "z.plot.contourf(ax=ax, transform=ccrs.PlateCarree(), levels=np.arange(0,2500,200),vmin=0, cmap='terrain',cbar_kwargs={'label':'Surface geopotential height [m]'});\n",
    "ax.set_xlabel('Longitude [°]')\n",
    "ax.set_ylabel('Latitude [°]')\n",
    "plt.title('Terrain of Africa')"
   ]
  },
  {
   "cell_type": "markdown",
   "metadata": {},
   "source": [
    "A topographic map of the African continent can be seen above. It is immediately obvious that the continent is structurally divided into two parts based on latitude. The northern half of the continent is directed in an east-west direction, while the southern half has a more longitudinal orientation.\n",
    "\n",
    "Africa is separated from Europe by the Mediterranean Sea and from Asia by the Red Sea. Though its average elevation (approximately 600m asl) compares roughly to that of North and South America, Africa is unique in that it has a very small region of low and high elevation land. Areas of moderate elevation between 400 and 1200 meters make up the majority of the continent. Regions of elevation below 200 meters are in general confined to the immediate coastal region. The western edge of the southern continental half is extreme in this regard, with only a very narrow region of low elevation near the coast and an immediate increase in elevation to the southern plateau region (including the Great Karoo and the Kalahari Desert).\n",
    "\n",
    "Near the Mediterranean Sea at approximately 30°N, the Atlas Mountains span 2500km through Morocco, Algeria and Tunisia, reaching a maximum height of 4167m at Jebel Toubkal. Moving southeast towards the center of the continent, one finds the Sahara Desert. The Sahara is the largest hot desert in the world (the third largest overall after Antarctica and the Arctic region). To the north it is bounded by the Mediterranean Sea and the Atlas Mountains, to the east by the Red Sea, to the west by the Atlantic Ocean and to the south by the Sahel, a semi-arid tropical savanna. The Nile, Africa's longest river, flows from south to north through the eastern part of the Sahara, enabling a narrow band of vegetation on either side.\n",
    "\n",
    "The plateau region of Africa, with elevations rarely below 600m can be divided into two subplateaus: the South African Plateau and the East African Plateau. The South African Plateau is bounded to the east, west and south by higher ground. To the north, the elevation drops as one approaches the Congo Basin. The South African Plateau is connected to the East African Plateau by a series of meridionally oriented features (tablelands, ridges, depressions, etc.) caused by tectonic activity. \n",
    "\n",
    "The Albertine Rift is the westernmost of these depressions and contains the lakes of Tanganyika, Kivu, Edward, and Albert. The eastern depression has much smaller lakes with the exception of Lake Turkana. These lakes are not visible in the topographic map above. The only easily visible lake is Lake Victoria which is located between the two previously mentioned lake belts in eastern Africa. The surface elevation of the lake is 1133m which is not captured in our data set (the data set has a surface elevation for Lake Victoria of 0m asl). \n",
    "\n",
    "A little further to the northeast, the Ethiopian Highlands can be found. This mountainous region contains the highest continuous area in Africa. Most of its area is above 1500m asl, and its highest peaks reach heights of around 4500m. Mt. Kilimanjaro (5895m), the highest mountain in Africa, is not located in the Ethiopian Highlands, but is rather an isolated volcano to the east of the eastern branch of the East African Rift Valley.\n",
    "\n",
    "The last major geographical feature of the African continent is the Congo Basin. The basin is located in the western half of Africa and near the Equator. The Congo River has a length of 4700km (9th longest), the second largest river discharge in the world, and it is also the world's deepest river (depths of up to 220m!). The basin has an area of 4 million square kilometers and covers approximately one eighth of the continent.\n"
   ]
  },
  {
   "cell_type": "markdown",
   "metadata": {},
   "source": [
    "# Temperatures"
   ]
  },
  {
   "cell_type": "code",
   "execution_count": null,
   "metadata": {
    "collapsed": false
   },
   "outputs": [],
   "source": [
    "T = xr.open_dataset('./data/ERA-Int-Monthly-2mTemp.nc')\n",
    "\n",
    "T=T.sel(latitude=lat,longitude=lon)\n",
    "T=T.where(inv.lsm==1).t2m-273\n",
    "#weights to compute meridional averages\n",
    "weights=np.cos(np.deg2rad(T.latitude))\n",
    "weights=weights/weights.sum()\n"
   ]
  },
  {
   "cell_type": "code",
   "execution_count": null,
   "metadata": {
    "collapsed": false
   },
   "outputs": [],
   "source": [
    "ax=prepare_plot()\n",
    "(T.mean(\"time\")).plot.contourf(ax=ax, cmap=\"RdYlBu_r\",transform=ccrs.PlateCarree(),levels=np.arange(10,32,2),cbar_kwargs={'label':'2m-Temperature [°C]'})\n",
    "plt.title('Surface temperatures')"
   ]
  },
  {
   "cell_type": "markdown",
   "metadata": {},
   "source": [
    "Plotted above are the 2m surface temperatures averaged over the entire (30 year) data set. It is immediately seen that the highest average temperatures, containing a large region with average temperatures above 28°C and even some regions above 30°C, are confined to the region between 0°N and 30°N, especially around a latitude of 15°N, in the Sahara. \n",
    "\n",
    "Regions of average surface temperature below 18°C are confined to regions of high elevation in the Atlas Mountains, the Ethiopian Highlands and the highest parts of the South African Plateau in South Africa and Lesotho including the Drakensberg.\n",
    "\n",
    "Around the equator, in the region characterised by low level convergence and thus rising air, the temperature is more moderate when compared to the Sahara region further north which has (at the top of the atmosphere) a lower average annual solar insolation. The reason for this lower average temperature at the equator is exactly due to this intertropical convergence zone (also known as monsoon trough). Since this equatorial region is characterised by high convective cloud cover, less of the solar insolation reaches the ground since a lot of it is reflected or absorbed at high altitudes.\n",
    "\n",
    "In contrast, the Sahara is located at a region of subsidence in the northern Hadley cell. This subsidence results in adiabatic heating and dry air. The dry air and absence of cloud cover result in a higher average surface solar insolation in the Sahara. <font color='red'>(Maybe plotting shortwave surface fluxes is appropriate to support this, ocean currents influence in south)</font> This is the reason for the higher temperatures there. "
   ]
  },
  {
   "cell_type": "code",
   "execution_count": null,
   "metadata": {
    "collapsed": false
   },
   "outputs": [],
   "source": [
    "fig=plt.figure()\n",
    "fig.suptitle('Seasonally averaged temperatures')\n",
    "for i,s in enumerate(['DJF','MAM','JJA','SON']):\n",
    "    ax=prepare_plot([2,2,i+1])\n",
    "    T_s = T.where(T['time.season'] == s)\n",
    "    T_s= T_s.rolling(min_periods=3, center=True, time=3).mean()\n",
    "    T_s = T_s.groupby('time.year').mean('time')[1:, ...].mean('year')\n",
    "    T_s.plot.contourf(ax=ax, cmap=\"RdYlBu_r\",transform=ccrs.PlateCarree(),levels=np.arange(10,32,2),cbar_kwargs={'label':'2m-Temperature [°C]'})\n",
    "    plt.title(s)\n"
   ]
  },
  {
   "cell_type": "markdown",
   "metadata": {},
   "source": [
    "Note: When we use the terms winter, summer, spring and fall, we are referring to the times of the year corresponding to that season in the northern hemisphere. \n",
    "\n",
    "In the figure above, we see 2m surface temperatures averaged by season over the data set. For each season, we have three monthly values of temperature for each year. So for each geographical location in each subfigure, we have 3x30=90 data points that are averaged. It is important to note that the meteorological seasons differ from the calendar seasons by approximately three weeks. December 1 is the start of the meteorological winter compared to December 21/22 for the calendar winter.\n",
    "The region with the highest average temperature shifts with the seasons. \n",
    "\n",
    "In the winter, the highest temperatures are located between 0° and 15°N and between 30°S and 15°S. In the summer, this region moves northward to between 15°N and 30°N. This shift is caused by the seasonal variation in the intertropical convergence zone due to solar elevation angle changes caused by the earth's axis tilt with respect to its solar orbit. As the ITCZ moves north, the Hadley cell also shifts to the north and thus, the regions of subsidence and higher temperatures also shift. As we would expect, the regions of maximal average temperature are quite similar in fall and spring when the maximum average solar elevation angle is located at the equator.\n",
    "\n"
   ]
  },
  {
   "cell_type": "code",
   "execution_count": null,
   "metadata": {
    "collapsed": false
   },
   "outputs": [],
   "source": [
    "ax=prepare_plot()\n",
    "(T.groupby('time.month').std('time').mean('month')).plot.contourf(ax=ax,levels=np.arange(0,1.6,0.2),cmap=\"RdYlBu_r\",transform=ccrs.PlateCarree(),cbar_kwargs={'label':'2m-Temperature std [°C]'})\n",
    "plt.title('Surface temperature interannual monthly standard deviation averaged')"
   ]
  },
  {
   "cell_type": "code",
   "execution_count": null,
   "metadata": {
    "collapsed": false
   },
   "outputs": [],
   "source": [
    "ax=prepare_plot()\n",
    "(T.groupby(\"time.year\").mean('time').std('year')).plot.contourf(ax=ax,levels=np.arange(0,1.6,0.2),cmap=\"RdYlBu_r\",transform=ccrs.PlateCarree(),cbar_kwargs={'label':'2m-Temperature std [°C]'})\n",
    "plt.title('Surface temperature interannual standard deviation')"
   ]
  },
  {
   "cell_type": "code",
   "execution_count": null,
   "metadata": {
    "collapsed": false
   },
   "outputs": [],
   "source": [
    "ax=prepare_plot()\n",
    "(T.groupby('time.month').mean('time').std('month')).plot.contourf(ax=ax,levels=np.arange(0,11,1), cmap=\"RdYlBu_r\",transform=ccrs.PlateCarree(),cbar_kwargs={'label':'2m-Temperature std [°C]'})\n",
    "plt.title('Surface temperature intra-annual standard deviation')"
   ]
  },
  {
   "cell_type": "markdown",
   "metadata": {},
   "source": [
    "\n",
    "<font color='red'>Distinguish between interannual and innerannual( or shall we call it itraannual?)  Say something about maritime and continental climate affecting innerannual variation, since directly at the coast west of the Sahara (and also but less North of it), lower stds are found (also in Southern Africa). East of it there is not such a change (-> connected to dominating winds (see later)!)</font>\n",
    "\n",
    "We calculated the intra-annual standard deviation of surface temperature by first averaging the 30 year (360 month) data set over each month. Doing this, we got an average monthly surface temperature for each of the 12 months. By calculating the standard deviation of these 12 months we isolate the seasonal variability of the temperature from the interannual fluctuations caused by ENSO or other phenomena. \n",
    "\n",
    "As expected, the regions of lowest variation are located in the Congo Basin around the equator which is characterised year round by high convective clouds and the effect of the convergence zone. Although the exact location of the ITCZ shifts with the seasons, the convergence region is quite broad and the shift in location does not result in as much variation near the central oscillation location when compared to the regions nearer to the subsidence of the Hadley cell. \n",
    "\n",
    "Additionally, there is low intra-annual variation along the west coast of the Sahara (which borders the Atlantic Ocean and has a more maritime climate). This difference in variation is due to the fact that water has a much higher heat capacity than air and so does not have as large a variation in temperature due to seasonal changes in radiative forcing. If we have a wind blowing over a large region of water, the air in the atmospheric boundary layer approaches that of the water. In the case of the Western Sahara, we typically have northern winds in that region of the Atlantic and a large region of ocean to the north. This results in the near-coast surface temperature variation of the atmosphere closely mirroring that of the ocean (naturally less than a more continental region). \n",
    "\n",
    "A careful observer may note that this decreased variability is not seen in the eastern Sahara at its border with the Red Sea. This could be due to two reasons. One the one hand, the average wind direction at 10 m is parallel to the Egyptian coast in the Red Sea and only turns inland as one reaches the Sudanese coastline. In this region, we do begin to observe a damped variability. The second reason for little decreased variability in temperature as one approaches the coastline of the eastern Sahara could be due to the relatively small surface area of the Red Sea (especially the small width in the direction perpendicular to the Egyptian coastline) and its isolation from large oceanic circulations. 'Below a depth of about 200-250 m the whole Red Sea basin with the exception of hot brine pools is filled with a remarkably constant temperature of about 21.5° C to 21.6° C.' : http://www.academia.edu/10358705/FORMATION_OF_A_SEASONAL_THERMOCLINE_IN_THE_RED_SEA The surface layer of the sea (especially the Northern Red Sea) has time to react to the strong seasonal forcing in radiation and its temperature adjusts. In contrast to the Atlantic Ocean, which in the region of the western African Coast contains currents transporting water from the North Atlantic southward, the Red Sea surface temperature is more closely correlated with the average surface temperature at its Coast. \n",
    "\n",
    "The highest variability in temperature occurs in the northern Sahara which, during the winter months, can be influenced by arctic air masses from nearby Europe, but experiences extremely warm summers. The further south one travels in the Sahara, the smaller the temperature variability. Analogously, in the southern Hadley cell, one sees a maximum temperature variability in the South African Plateau at a similar latitude deviation from the equator (approximately 30°)."
   ]
  },
  {
   "cell_type": "code",
   "execution_count": null,
   "metadata": {
    "collapsed": false
   },
   "outputs": [],
   "source": [
    "ax=prepare_plot()\n",
    "(T.max(\"time\")).plot.contourf(ax=ax,levels=15, cmap=\"RdYlBu_r\",transform=ccrs.PlateCarree(),cbar_kwargs={'label':'2m-Temperature [°C]'})\n",
    "plt.title('Surface temperature monthly maximum')"
   ]
  },
  {
   "cell_type": "markdown",
   "metadata": {},
   "source": [
    "The maximum average monthly surface temperature is greatest in the northwestern Sahara, in central Algeria. The lowest maximum monthly temperatures, apart from the high elevation regions, are located in the Congo basin. At first glance this would be surprising since this region is located near the Equator, but the color scale overemphasizes the magnitude of the cold. In the Congo Basin, the maximum monthly average temperature is on the order of 26°C. For comparison, the maximum monthly average temperature in Innsbruck is below 20°C. Such a low temperature is found in Africa only at very high elevations in the Southern Plateau and the Ethiopian highlands. As we see, Africa is a very warm continent."
   ]
  },
  {
   "cell_type": "code",
   "execution_count": null,
   "metadata": {
    "collapsed": false
   },
   "outputs": [],
   "source": [
    "ax=prepare_plot()\n",
    "(T.min(\"time\")).plot.contourf(ax=ax,levels=np.arange(0,28,2), cmap=\"RdYlBu_r\",transform=ccrs.PlateCarree(),cbar_kwargs={'label':'2m-Temperature [°C]'})\n",
    "plt.title('Surface temperature monthly minimum')\n",
    "plt.xticks(np.arange(-20,60,1));"
   ]
  },
  {
   "cell_type": "markdown",
   "metadata": {},
   "source": [
    "The minimum average monthly temperatures are now plotted. Here we see the highest minimum temperatures are located around the equator where the temperature remains relatively constant with season. This is exactly what we would expect given the information about standard deviation of monthly temperature found in a previous figure. Comparing the color scale in the Congo Basin between this figure and the previous figure with maximum monthly temperatures is helpful. The red region in this figure corresponds to the blue region in the previous figure. \n",
    "\n",
    "The lowest average monthly temperatures can be quite low in the northern and southern extents of Africa. In the higher regions of the Sahara there are average monthly temperatures below 6°C. The Atlas Mountains and Drakensberg are even colder, but it is hardly anywhere below 0°C! Along the Atlantic coastline of the western Sahara, one can see the moderating effect on temperature of the ocean (as extensively discussed before). For a given latitude (take 23°N as an example) the minimum average monthly temperature is higher near the coast and decreases inland."
   ]
  },
  {
   "cell_type": "code",
   "execution_count": null,
   "metadata": {
    "collapsed": true
   },
   "outputs": [],
   "source": [
    "#%matplotlib qt\n",
    "%matplotlib inline"
   ]
  },
  {
   "cell_type": "code",
   "execution_count": null,
   "metadata": {
    "collapsed": false
   },
   "outputs": [],
   "source": [
    "T_month=T.groupby(\"time.month\").mean(['longitude','time'])\n",
    "T_month.T.plot.contourf(levels=np.arange(4,36,2),cmap=\"RdYlBu_r\",cbar_kwargs={'label':'2m-Temperature [°C]'})\n",
    "plt.title('Zonal average of surface temperature')\n",
    "plt.xlabel(\"Month\")\n",
    "plt.ylabel('Latitude [°]')\n",
    "plt.xticks(np.arange(1,13));\n"
   ]
  },
  {
   "cell_type": "markdown",
   "metadata": {},
   "source": [
    "Above we see a type of Hovmöller Diagram, with the temporal and spatial coordinates as the abscissa and ordinate axes respectively. This was done to keep the latitude in its natural orientation for ease of understanding. As expected, we see a wave like pattern with a period of a year and a temperature maximum in the north during summer and in the south during winter. The signal is much stronger during the summer than in winter. This is due to the large summer temperature maximum in the Sahara which covers almost the entire sector between 15°N and 30°N. The temperature minimum around 30°S during the northern summer is enhanced due to the high average elevation of the averaging region. During the northern winter, the opposite effect occurs and the maximum temperature is damped at 30°S due to the high elevation and the maximum temperature by latitude shifts northward to nearer 20°S.\n",
    "\n",
    "Overall though, we have a very sinusoidal pattern both spatially and temporally. One could say Africa has a very 'orderly' climate and is influenced to a great extent by season fluctuations in sun elevation angle due to the earth's axial tilt. \n",
    "This can be seen better, when doing the same plot, but averaging meridionally and displaying zonal gradients from the western coast to the Horn of Africa:\n"
   ]
  },
  {
   "cell_type": "code",
   "execution_count": null,
   "metadata": {
    "collapsed": false
   },
   "outputs": [],
   "source": [
    "T_month_lon=(T.groupby(\"time.month\").mean('time')*weights).sum('latitude')\n",
    "T_month_lon.T.plot.contourf(levels=np.arange(2,24,2),cmap=\"RdYlBu_r\",cbar_kwargs={'label':'2m-Temperature [°C]'})\n",
    "plt.title('Meridional average of surface temperature')\n",
    "plt.xlabel(\"Month\")\n",
    "plt.ylabel('Longitude [°]')\n",
    "plt.xticks(np.arange(1,13));\n",
    "plt.ylim(-16,50)\n",
    "plt.yticks(np.arange(-15,55,5));"
   ]
  },
  {
   "cell_type": "markdown",
   "metadata": {},
   "source": [
    "We see that in large parts if the graph the zonal gradient of mean temperature is very low. From the western boundary to about 9°E all landmass of the continent is on the northern hemisphere, leading to the typical seasonal cycle with cold temperatures in December and January that are increasing until July. Directly at the coast the seasonal cycle is neglible, getting stronger further inland. This is the difference between maritime and continental climate.\n",
    "Going further to the east, that fraction of landmass located south of the equator increases strongly since the western coast is almost meridionally aligned. Between 15°E and 30°E the landmass distribution is strikingly symmetric about the equator. This causes a sharp change in the seasonal cycle with the maximum solar radiation in the tropics during the equinoxes giving the strongest signal. The northern and southern temperature developments are balancing each other here. Still further east the characteristic boreal seasonality dominates again, since the eastern coast in the south is on average steeper, that is it is more aligned in meridional direction, than in the north. "
   ]
  },
  {
   "cell_type": "markdown",
   "metadata": {},
   "source": [
    "<font color='red'>Do we need a better storyline, connecting the different figures, maybe?</font>"
   ]
  },
  {
   "cell_type": "markdown",
   "metadata": {},
   "source": [
    "# Precipitation"
   ]
  },
  {
   "cell_type": "code",
   "execution_count": null,
   "metadata": {
    "collapsed": false
   },
   "outputs": [],
   "source": [
    "prec = xr.open_dataset('./data/ERA-Int-Monthly-P.nc')\n",
    "print(prec)\n",
    "prec=prec.sel(latitude=lat,longitude=lon)\n",
    "prec=prec.where(inv.lsm==1).tp"
   ]
  },
  {
   "cell_type": "code",
   "execution_count": null,
   "metadata": {
    "collapsed": false
   },
   "outputs": [],
   "source": [
    "ax=prepare_plot()\n",
    "(prec.mean(\"time\")*365).plot.contourf(ax=ax, cmap=\"RdYlBu_r\",transform=ccrs.PlateCarree(),levels=np.arange(0,3400,400),cbar_kwargs={'label':'Annual precipitation [mm/year]'})\n",
    "plt.title('Mean annual precipation')"
   ]
  },
  {
   "cell_type": "markdown",
   "metadata": {},
   "source": [
    "This figure shows annual precipitation (given in mm/year). For reference, the average annual precipitation in Innsbruck is 900mm/year. Clearly visible are the large arid regions in the north (Sahara) and the south (Great Karoo, Kalahari Desert). It is interesting to note that Namibia (with an annual precipitaiton of mainly less than 400mm/year) consists of a coastal mountain range. It is quite unusual to see coastal ranges with little precipitation and this indicates that the mean flow in this region is not westerly or we would see more orographic precipitation. Further east, we see the precipitation increase towards the coast, which is indicative of an easterly average flow between 15°S and 30°S.\n",
    "\n",
    "The maximum average annual precipitation is found in the Congo Basin and the southern coastal regions of West Africa near the equator in the ITCZ. Further east, we see local precipitation maxima caused by orographic precipitation in the Ethiopian Highlands, for example. In contrast to the region further south, precipitation decreases as one travels east across the continent near the equator. At the horn of Africa, there is even a coastal desert. We can again deduce a mean atmospheric flow from these precipitation data, but in this latitudinal region, the flow is more westerly. Looking at average wind speed data in later figures, we will see that there is no strong average westerly flow in this region. In the Congo Basin, there is a weak average westerly flow, but further east to the south of the Horn of Africa, the flow is more southerly in nature. This results in a rain shadow effect in northern Somalia and little precipitation even at the coast."
   ]
  },
  {
   "cell_type": "code",
   "execution_count": null,
   "metadata": {
    "collapsed": false
   },
   "outputs": [],
   "source": [
    "#Interannual monthly variability and monthly means of precipitation\n",
    "prec_inter=prec.groupby(\"time.month\").std('time')*30\n",
    "prec_intra=prec.groupby(\"time.month\").mean('time')*30\n",
    "prec_inter2=prec.groupby(\"time.year\").mean('time')*365\n"
   ]
  },
  {
   "cell_type": "code",
   "execution_count": null,
   "metadata": {
    "collapsed": false
   },
   "outputs": [],
   "source": [
    "ax=prepare_plot()\n",
    "(prec_inter.mean('month')).plot.contourf(ax=ax, cmap=\"RdYlBu_r\",transform=ccrs.PlateCarree(),levels=np.arange(0,90,5),cbar_kwargs={'label':'Annual precipitation std [mm/month]'})\n",
    "plt.title('Annual precipation: interannual monthly standard deviation')"
   ]
  },
  {
   "cell_type": "code",
   "execution_count": null,
   "metadata": {
    "collapsed": false
   },
   "outputs": [],
   "source": [
    "ax=prepare_plot()\n",
    "(prec_inter2.std('year')).plot.contourf(ax=ax, cmap=\"RdYlBu_r\",transform=ccrs.PlateCarree(),levels=np.arange(0,800,50),cbar_kwargs={'label':'Annual precipitation std [mm/year]'})\n",
    "plt.title('Annual precipation: interannual standard deviation')\n"
   ]
  },
  {
   "cell_type": "markdown",
   "metadata": {},
   "source": [
    "The interannual variability of precipitation is given by the annnual precipitation standard deviation and is seen in this figure. This is the standard deviation of the 30 yearly averages. This metric does not resolve any intra-annual variability. In other words, if a location has very distinct wet and dry seasons, this variability is not captured in the figure. We see a high yearly variability in regions with large average precipitations and especially in regions with large precipitation gradients. That is, we expect to see large interannual variability in regions where the average annual precipitation changes drastically over small spatial scales. Since the regions of precipitation within a certain year can be quite distinct, the exact location of the ITCZ can be the difference between a very wet and a very dry year in regions of high standard deviation of annual precipitation. "
   ]
  },
  {
   "cell_type": "code",
   "execution_count": null,
   "metadata": {
    "collapsed": false
   },
   "outputs": [],
   "source": [
    "ax=prepare_plot()\n",
    "(prec_intra.std('month')).plot.contourf(ax=ax, cmap=\"RdYlBu_r\",transform=ccrs.PlateCarree(),levels=np.arange(0,130,10),cbar_kwargs={'label':'Annual precipitation std [mm/month]'})\n",
    "plt.title('Annual precipation: intra-annual standard deviation')\n"
   ]
  },
  {
   "cell_type": "markdown",
   "metadata": {},
   "source": [
    "In this figure, we plotted "
   ]
  },
  {
   "cell_type": "code",
   "execution_count": null,
   "metadata": {
    "collapsed": false
   },
   "outputs": [],
   "source": [
    "ax=prepare_plot()\n",
    "(prec_inter/prec_intra).mean('month').plot.contourf(ax=ax, cmap=\"RdYlBu_r\",transform=ccrs.PlateCarree(),levels=np.arange(0,5.5,0.5),cbar_kwargs={'label':'Coefficient of variation'})\n",
    "plt.title('Annual precipation: interannual monthly coefficient of variation')"
   ]
  },
  {
   "cell_type": "code",
   "execution_count": null,
   "metadata": {
    "collapsed": false
   },
   "outputs": [],
   "source": [
    "ax=prepare_plot()\n",
    "(prec_intra.std('month')/(prec_intra.mean('month'))).plot.contourf(ax=ax, cmap=\"RdYlBu_r\",transform=ccrs.PlateCarree(),levels=np.arange(0,2.2,0.2),cbar_kwargs={'label':'Coefficient of variation'})\n",
    "plt.title('Annual precipation: intra-annual coefficient of variation')"
   ]
  },
  {
   "cell_type": "markdown",
   "metadata": {},
   "source": [
    "<font color='red'>Again: two figures now. </font> To get a better metric for the variability of the precipitation at a certain location, we correct the standard deviation of precipitation for the average annual precipitation by examining their quotient and calling it the coefficient of variation of precipitation. This metric has an advantage over the standard deviation in that it corrects for the expectedly larger annual variation of precipitation in regions with large precipitation (it can be seen as a type of percentual variability). The coefficient of variation is especially useful when researching the effect of atmospheric variability on the environment. In a region where it rarely ever rains, years with 100mm/year of rain represent a drastic change and can greatly affect human life. A 100mm/year precipitation change in the Congo Basin will go unnoticed.\n",
    "\n",
    "Regions with a high coefficient of variation of precipitation include most regions of the Sahara between 15°N and 30°N and the coastal regions of Namibia and southern Angola. The variation in Namibia and Angola can be due to the large impact of shifting winds on orographic precipitation in the coastal mountain regions. If we have a shift from easterlies to westerlies, the precipitation amount will change from near zero to quite significant values, as the westerlies transport moist Atlantic air to the land, where the air is lifted, cools and condenses to form precipitation. "
   ]
  },
  {
   "cell_type": "markdown",
   "metadata": {},
   "source": [
    "Another measure of the intra-annual variability, which is in our case the seasonality, is the seasonality index $SI$ for a given gridpoint:\n",
    "$$SI=\\frac{1}{P_{\\mathrm{annual}}}\\sum_{n=0}^{12} \\left |P_i-\\frac{P_{\\mathrm{annual}}}{12}\\right |= \\frac{1}{12}\\sum_{n=0}^{12} \\left |\\frac{P_i}{\\overline{P}} -1 \\right|$$\n",
    "where $P_i$ is the average precipitation [in mm] in each month, $P_{\\mathrm{annual}}$ is the average annual precipitation and \\overline{P} is the precipitation averaged over all months. \n",
    "(Taken from *Walsh and Lawler* (1981))"
   ]
  },
  {
   "cell_type": "code",
   "execution_count": null,
   "metadata": {
    "collapsed": false
   },
   "outputs": [],
   "source": [
    "SI=np.abs((prec_intra/prec_intra.mean('month')-1)).sum('month')/12\n",
    "ax=prepare_plot()\n",
    "(SI**2).plot.contourf(ax=ax, cmap=\"RdYlBu_r\",transform=ccrs.PlateCarree(),levels=np.arange(0,2.2,0.2),cbar_kwargs={'label':'Seasonality index'})\n",
    "plt.title('Annual precipation: Seasonality index')"
   ]
  },
  {
   "cell_type": "markdown",
   "metadata": {},
   "source": [
    "This is  basically the same as the coefficient of variation, only that here the absolute values of the devitation from the mean (instead of the squares due to the standard deviation) are added up."
   ]
  },
  {
   "cell_type": "code",
   "execution_count": null,
   "metadata": {
    "collapsed": false
   },
   "outputs": [],
   "source": [
    "fig=plt.figure()\n",
    "fig.suptitle('Seasonally averaged precipitation')\n",
    "for i,s in enumerate(['DJF','MAM','JJA','SON']):\n",
    "    ax=prepare_plot([2,2,i+1])\n",
    "    prec_s = prec.where(T['time.season'] == s)\n",
    "    prec_s= prec_s.rolling(min_periods=3, center=True, time=3).mean()\n",
    "    prec_s = prec_s.groupby('time.year').mean('time')[1:, ...].mean('year')\n",
    "    prec_s.plot.contourf(ax=ax, cmap=\"RdYlBu_r\",transform=ccrs.PlateCarree(),levels=np.arange(0,11,1),cbar_kwargs={'label':'Daily precipation [mm/day]'})\n",
    "    plt.title(s)"
   ]
  },
  {
   "cell_type": "markdown",
   "metadata": {},
   "source": [
    "During the winter months there are divergent northeasterlies north of the equator which result in subsidence and suppressed rainfall. As the ITCZ is at its southernmost extent during this time of the year, the precipitation maxima are shifted south and the Angolan high plateau has a distinct wet season. The North African coast experiences rainfall due to increased frontal activity during this season and in fact every season apart from the summer (during which the region is dry). The precipitation in North Africa is mostly confined to the north of the Atlas Mountains in Morocco and Algeria.\n",
    "\n",
    "In the spring, the ITCZ moves north, and with it the precipitation maxima. We especially see an increase in precipitation in Eastern Africa between 0° and 15°N. This is the first of two distinct wet seasons in this area. The local maximum in the western Ethiopian Highlands due to orographic precipitation is again distinctly visible.\n",
    "\n",
    "During the northern summer, the ITCZ has reached its northernmost extent. Although the surface pressure signal of the ITCZ has an amplitude of approximately 20°, the fluctuation in the precipitation signal to the north of the equator is clearly damped. There is never a large seasonal average precipitation north of 15°N in the Sahara. During the winter, the precipitation begins south of approximately 5°N. So, the amplitude of the fluctuation in the northern half is approximately 10°. Compare this to the surface pressure fluctuation amplitude of approximately 20° and the earth orbital axis tilt of 23.5°. In the southern half of Africa, the seasonal precipitation fluctuations more closely resemble the pressure fluctuations. This is due to the aforementioned orientation of the main continental axes. The southern half of Africa is exclusively east of 15°E and is connected to the northern half with no oceanic interruptions. The latitudinal range of land east of 15°E is from 30°N to 35°S (75°). In contrast, west of 15°E, we have ocean south of 5°N and a continental meridional extent of 5°N to 35°N (approximately half of that of the eastern continental region). This explains the increased oscillation of the ITCZ in the south of Africa. It is due to the fact that the southern half of Africa is exclusively in the more continental eastern half.\n",
    "\n",
    "In the fall months, the precipitation distribution is quite similar to that of the spring, with the second seasonal maximum visible in eastern Africa.\n",
    "\n",
    "Since the location of the ITCZ fluctuates over a larger meridional range in the east of Africa when compared to west, the annual precipitation is spread over a larger region and we naturally see smaller values of annual precipitation for given locations in the east. If we were to sum the precipitation meridionally (arriving at a plot of annual precipitation vs longitude) there would not be such a large apparent precipitation maximum in the African west. "
   ]
  },
  {
   "cell_type": "code",
   "execution_count": null,
   "metadata": {
    "collapsed": false
   },
   "outputs": [],
   "source": [
    "P_month=prec.groupby(\"time.month\").mean(['longitude','time'])\n",
    "P_month.T.plot.contourf(levels=np.arange(0,10,0.5),cmap=\"RdYlBu_r\",cbar_kwargs={'label':'Daily precipation [mm/day]'})\n",
    "plt.title('Zonal average of precipitation')\n",
    "plt.xlabel(\"Month\")\n",
    "plt.ylabel('Latitude [°]')\n",
    "plt.xticks(np.arange(1,13));\n"
   ]
  },
  {
   "cell_type": "markdown",
   "metadata": {},
   "source": [
    "In this Hovmöller Diagram, the amplitude difference between the northern and southern hemispheres discussed above is clearly visible. As we already know, around the equator there is no strong intra-annual variation in precipitation, and this is visible in the diagram. The band of strongest intra-annual variability is narrower in the northern hemisphere than in the southern hemisphere since the slope of the boundary separating strong and weak precipitation is shallower. In other words, the boundary between strong and weak precipitation moves further (in ° latitude) per month in the southern hemisphere than in the northern hemisphere.\n",
    "\n",
    "The reason for this is the orientation of the continental axes explained above. If we were to extend our zonal average to include the southern Atlantic Ocean south of 5°N and west of 15°E, the amplitude in the southern oscillation would be damped and the plot would appear more spatially symmetrical. "
   ]
  },
  {
   "cell_type": "code",
   "execution_count": null,
   "metadata": {
    "collapsed": false
   },
   "outputs": [],
   "source": [
    "P_month_lon=(prec.groupby(\"time.month\").mean('time')*weights).sum('latitude')\n",
    "P_month_lon.T.plot.contourf(levels=np.arange(0,3.2,0.2),cmap=\"RdYlBu_r\",cbar_kwargs={'label':'Daily precipation [mm/day]'})\n",
    "plt.title('Meridional average of precipitation')\n",
    "plt.xlabel(\"Month\")\n",
    "plt.ylabel('Longitude [°]')\n",
    "plt.xticks(np.arange(1,13));\n",
    "plt.ylim(-16,50)\n",
    "plt.yticks(np.arange(-15,55,5));"
   ]
  },
  {
   "cell_type": "markdown",
   "metadata": {},
   "source": [
    "EXPLANATION: SIMILAR TO ABOVE FOR TEMPERATURE"
   ]
  },
  {
   "cell_type": "markdown",
   "metadata": {},
   "source": [
    "## Sea-level pressure and surface winds  "
   ]
  },
  {
   "cell_type": "code",
   "execution_count": null,
   "metadata": {
    "collapsed": false
   },
   "outputs": [],
   "source": [
    "slp = xr.open_dataset('./data/ERA-Int-MonthlyAvg-UVSLP.nc')\n",
    "slp=slp.sel(latitude=lat,longitude=lon)\n",
    "#slp=slp.where(inv.lsm==1)\n",
    "SLP_m_zonal=slp.msl.mean([\"month\",'longitude'])/100\n"
   ]
  },
  {
   "cell_type": "code",
   "execution_count": null,
   "metadata": {
    "collapsed": false
   },
   "outputs": [],
   "source": [
    "ax=prepare_plot()\n",
    "slp_mean=slp.mean(\"month\")\n",
    "(slp_mean.msl/100).plot.contourf(ax=ax, cmap=\"RdYlBu_r\",transform=ccrs.PlateCarree(),levels=np.arange(1008,1021,1),cbar_kwargs={'label':'Pressure [hPa]'})\n",
    "s=3\n",
    "strm=ax.quiver(slp_mean.longitude[::s],slp_mean.latitude[::s],slp_mean.u10[::s,::s].values,slp_mean.v10[::s,::s].values,transform=ccrs.PlateCarree(),scale_units='inches',scale=30)\n",
    "plt.title('Mean sea level pressure and wind at 10 m')\n",
    "qk = plt.quiverkey(strm, 1.06,1.03, 10, r'$10 \\frac{m}{s}$', labelpos='W')"
   ]
  },
  {
   "cell_type": "code",
   "execution_count": null,
   "metadata": {
    "collapsed": false
   },
   "outputs": [],
   "source": [
    "for i,m in enumerate([['DJF',[12,1,2]],['MAM',[3,4,5]],['JJA',[6,7,8]],['SON',[9,10,11]]]):\n",
    "    ax=prepare_plot([2,2,i+1])\n",
    "    s=4\n",
    "    slp_s=slp.sel(month=m[1]).mean('month')\n",
    "    (slp_s.msl/100-slp_mean.msl/100).plot.contourf(ax=ax ,extend='both',levels=np.arange(-6,7,1),cmap=\"RdYlBu_r\",transform=ccrs.PlateCarree(),cbar_kwargs={'label':'Pressure [hPa]'})\n",
    "    strm=ax.quiver(slp_s.longitude[::s],slp_s.latitude[::s],slp_s.u10[::s,::s].values,slp_s.v10[::s,::s].values,transform=ccrs.PlateCarree(), scale_units='inches',scale=50)\n",
    "    qk = plt.quiverkey(strm, 0.9,1.06, 10, r'$10 \\frac{m}{s}$', labelpos='W')\n",
    "    plt.title(m[0])"
   ]
  },
  {
   "cell_type": "markdown",
   "metadata": {},
   "source": [
    "## General circulation over Africa and atmospheric cross-sections "
   ]
  },
  {
   "cell_type": "code",
   "execution_count": null,
   "metadata": {
    "collapsed": false
   },
   "outputs": [],
   "source": [
    "uvwz = xr.open_dataset('./data/ERA-Int-MonthlyAvg-4D-UVWZ.nc').sel(latitude=lat,longitude=lon)\n",
    "#uvwz=uvwz.where(inv.lsm==1)\n",
    "z_zonal=uvwz.z.mean(\"longitude\")\n",
    "z_m_zonal=uvwz.z.mean([\"month\",'longitude'])/9.81\n",
    "z_m_zonal_dev=z_m_zonal-z_m_zonal.mean('latitude')\n"
   ]
  },
  {
   "cell_type": "markdown",
   "metadata": {},
   "source": [
    "ADJUST PLOT!"
   ]
  },
  {
   "cell_type": "code",
   "execution_count": null,
   "metadata": {
    "collapsed": false
   },
   "outputs": [],
   "source": [
    "uvwz.w.mean([\"longitude\"]).sel(month=4).plot.contourf(levels=np.linspace(-0.05,0.05,10),cbar_kwargs={'label':'u [m/s]'})\n",
    "plt.ylabel(\"Pressure [hPa]\")\n",
    "plt.grid()\n",
    "plt.xlim(lat_a)\n",
    "plt.ylim(1000,50)\n"
   ]
  },
  {
   "cell_type": "code",
   "execution_count": null,
   "metadata": {
    "collapsed": false
   },
   "outputs": [],
   "source": [
    "p_low=900\n",
    "p_mid=500\n",
    "p_up=200\n",
    "wind_low=uvwz.mean('month').sel(level=p_low)\n",
    "wind_mid=uvwz.mean('month').sel(level=p_mid)\n",
    "wind_up=uvwz.mean('month').sel(level=p_up)\n",
    "s=3\n",
    "for wind,p in [[wind_low,p_low],[wind_mid,p_mid],[wind_up,p_up]]:\n",
    "    fig=plt.figure()\n",
    "    ax=prepare_plot()\n",
    "    u_total=(wind.u**2+wind.v**2)**0.5\n",
    "    (wind.z/9.81).plot.contourf(ax=ax, levels=12, cmap=\"RdYlBu_r\",transform=ccrs.PlateCarree(),cbar_kwargs={'label':'Geopotential height [m]'})\n",
    "    strm=ax.quiver(wind.longitude[::s],wind.latitude[::s],wind.u[::s,::s].values,wind.v[::s,::s].values,transform=ccrs.PlateCarree())\n",
    "    plt.title('Wind and geopotential at {0} hPa'.format(p))\n",
    "    qk = plt.quiverkey(strm, 0.95,1.03, 20, r'$10 \\frac{m}{s}$', labelpos='W')\n"
   ]
  },
  {
   "cell_type": "markdown",
   "metadata": {},
   "source": [
    "# ENSO\n"
   ]
  },
  {
   "cell_type": "code",
   "execution_count": null,
   "metadata": {
    "collapsed": true
   },
   "outputs": [],
   "source": [
    "nino_yrs = [1980, 1983, 1987, 1988, 1992, 1995, 1998, 2003, 2007, 2010]\n",
    "nina_yrs = [1989, 1999, 2000, 2008, 2011, 2012]"
   ]
  },
  {
   "cell_type": "markdown",
   "metadata": {},
   "source": [
    "### Temperature"
   ]
  },
  {
   "cell_type": "code",
   "execution_count": null,
   "metadata": {
    "collapsed": false
   },
   "outputs": [],
   "source": [
    "t2m_djf = T.where(T['time.season'] == 'DJF')\n",
    "t2m_djf = t2m_djf.rolling(min_periods=3, center=True, time=3).mean()\n",
    "t2m_djf = t2m_djf.groupby('time.year').mean('time')"
   ]
  },
  {
   "cell_type": "code",
   "execution_count": null,
   "metadata": {
    "collapsed": false
   },
   "outputs": [],
   "source": [
    "djf_anomaly_nino=t2m_djf.sel(year=nino_yrs).mean('year')-t2m_djf.mean('year')\n",
    "ax=prepare_plot()\n",
    "djf_anomaly_nino.plot.contourf(ax=ax,extend='both',levels=np.arange(-1.4,1.4,0.2),cmap=\"RdYlBu_r\", transform=ccrs.PlateCarree(),cbar_kwargs={'label':'Temperature anomaly [°C]'})\n",
    "plt.title('El nino DJF composite anomalies - Temperature')\n",
    "\n",
    "plt.figure()\n",
    "djf_anomaly_nina=t2m_djf.sel(year=nina_yrs).mean('year')-t2m_djf.mean('year')\n",
    "ax=prepare_plot()\n",
    "djf_anomaly_nina.plot.contourf(ax=ax,extend='both',levels=np.arange(-1.2,1.4,0.2),cmap=\"RdYlBu_r\", transform=ccrs.PlateCarree(),cbar_kwargs={'label':'Temperature anomaly [°C]'})\n",
    "plt.title('La nina DJF composite anomalies - Temperature')"
   ]
  },
  {
   "cell_type": "markdown",
   "metadata": {},
   "source": [
    "### Precipitation"
   ]
  },
  {
   "cell_type": "code",
   "execution_count": null,
   "metadata": {
    "collapsed": true
   },
   "outputs": [],
   "source": [
    "p_djf = prec.where(prec['time.season'] == 'DJF')\n",
    "p_djf = p_djf.rolling(min_periods=3, center=True, time=3).mean()\n",
    "p_djf = p_djf.groupby('time.year').mean('time')"
   ]
  },
  {
   "cell_type": "code",
   "execution_count": null,
   "metadata": {
    "collapsed": false
   },
   "outputs": [],
   "source": [
    "p_anomaly_nino=p_djf.sel(year=nino_yrs).mean('year')-p_djf.mean('year')\n",
    "ax=prepare_plot()\n",
    "p_anomaly_nino.plot.contourf(ax=ax,cmap=\"RdYlBu_r\",extend='both',levels=np.arange(-1.4,1.6,0.2),transform=ccrs.PlateCarree(),cbar_kwargs={'label':'Precipitation anomaly [mm/day]'})\n",
    "plt.title('El nino DJF composite anomalies - Precipitation')\n",
    "\n",
    "plt.figure()\n",
    "p_anomaly_nina=p_djf.sel(year=nina_yrs).mean('year')-p_djf.mean('year')\n",
    "ax=prepare_plot()\n",
    "p_anomaly_nina.plot.contourf(ax=ax,cmap=\"RdYlBu_r\",extend='both',levels=np.arange(-1.4,1.6,0.2),transform=ccrs.PlateCarree(),cbar_kwargs={'label':'Precipitation anomaly [mm/day]'})\n",
    "plt.title('La nina DJF composite anomalies - Precipitation')\n"
   ]
  },
  {
   "cell_type": "markdown",
   "metadata": {},
   "source": [
    "# Regionally averaged time series"
   ]
  },
  {
   "cell_type": "code",
   "execution_count": null,
   "metadata": {
    "collapsed": false
   },
   "outputs": [],
   "source": [
    "#define region with latitude and longitude: slices to select from array and array for the limits of the plots\n",
    "\n",
    "#Sahel:\n",
    "#latb=slice(20, 12)\n",
    "#lat_b=[12,20]\n",
    "#lonb=slice(-18, 42)\n",
    "#lon_b=[-18,42]\n",
    "\n",
    "#Southern Africa:\n",
    "latb=slice(-15, -30)\n",
    "lat_b=[-30,-15]\n",
    "lonb=slice(15, 38)\n",
    "lon_b=[15,38]\n",
    "\n",
    "\n",
    "#Compute yearly temperature anomalies\n",
    "T_djf_r=t2m_djf.sel(latitude=latb,longitude=lonb)[1:].mean('longitude')\n",
    "T_r_avg=(T_djf_r*weights).sum('latitude')\n",
    "T_r_dev=T_r_avg-T_r_avg.mean()\n",
    "\n",
    "#Compute yearly precipitation anomalies\n",
    "p_djf_r=p_djf.sel(latitude=latb,longitude=lonb)[1:].mean('longitude')\n",
    "p_r_avg=(p_djf_r*weights).sum('latitude')\n",
    "p_r_dev=p_r_avg-p_r_avg.mean()\n"
   ]
  },
  {
   "cell_type": "code",
   "execution_count": null,
   "metadata": {
    "collapsed": false
   },
   "outputs": [],
   "source": [
    "T_r_dev.plot(marker='*',color='green',label='Temperature anomalies')\n",
    "plt.grid()\n",
    "nino_yrs = [1980, 1983, 1987, 1988, 1992, 1995, 1998, 2003, 2007, 2010]\n",
    "nina_yrs = [1989, 1999, 2000, 2008, 2011, 2012]\n",
    "\n",
    "leg=False\n",
    "for i in nino_yrs:\n",
    "    # Plot all nino years as vertical lines(but only one label)\n",
    "     if leg==False:\n",
    "        plt.plot([i,i],[-2,2],'r--',label='El nino years')\n",
    "        leg=True\n",
    "     else:\n",
    "         plt.plot([i,i],[-2,2],'r--')\n",
    "plt.legend(frameon=True)\n",
    "plt.ylabel('DJF temperature anomaly [°C]')\n",
    "plt.title('DJF temperature anomalies in southern Africa')"
   ]
  },
  {
   "cell_type": "code",
   "execution_count": null,
   "metadata": {
    "collapsed": false
   },
   "outputs": [],
   "source": [
    "T_r_dev.plot(marker='*',color='green', label='Temperature anomalies')\n",
    "plt.grid()\n",
    "leg=False\n",
    "for i in nina_yrs:\n",
    "    if leg==False:\n",
    "        plt.plot([i,i],[-2,2],'b--',label='La nina years')\n",
    "        leg=True\n",
    "    else:\n",
    "        plt.plot([i,i],[-2,2],'b--')\n",
    "plt.legend(frameon=True)\n",
    "plt.ylabel('DJF temperature anomaly [°C]')\n",
    "plt.title('DJF temperature anomalies in southern Africa')"
   ]
  },
  {
   "cell_type": "code",
   "execution_count": null,
   "metadata": {
    "collapsed": false
   },
   "outputs": [],
   "source": [
    "p_r_dev.plot(marker='*',color='green',label='Precipitation anomalies')\n",
    "plt.grid()\n",
    "leg=False\n",
    "for i in nino_yrs:\n",
    "     if leg==False:\n",
    "        plt.plot([i,i],[-2.8,2.8],'r--',label='El nino years')\n",
    "        leg=True\n",
    "     else:\n",
    "         plt.plot([i,i],[-2.8,2.8],'r--')\n",
    "plt.legend(frameon=True)\n",
    "plt.ylim(-2,2.8)\n",
    "plt.ylabel('DJF precipitation  anomaly [mm/day]')\n",
    "plt.title('DJF precipitation  anomalies in southern Africa')"
   ]
  },
  {
   "cell_type": "code",
   "execution_count": null,
   "metadata": {
    "collapsed": false
   },
   "outputs": [],
   "source": [
    "p_r_dev.plot(marker='*',color='green',label='Precipitation anomalies')\n",
    "plt.grid()\n",
    "leg=False\n",
    "for i in nina_yrs:\n",
    "     if leg==False:\n",
    "        plt.plot([i,i],[-2.8,2.8],'r--',label='La nina years')\n",
    "        leg=True\n",
    "     else:\n",
    "         plt.plot([i,i],[-2.8,2.8],'r--')\n",
    "plt.legend(frameon=True)\n",
    "plt.ylim(-2,2.8)\n",
    "plt.ylabel('DJF precipitation  anomaly [mm/day]')\n",
    "plt.title('DJF precipitation  anomalies in southern Africa')"
   ]
  }
 ],
 "metadata": {
  "kernelspec": {
   "display_name": "Python 3",
   "language": "python",
   "name": "python3"
  },
  "language_info": {
   "codemirror_mode": {
    "name": "ipython",
    "version": 3
   },
   "file_extension": ".py",
   "mimetype": "text/x-python",
   "name": "python",
   "nbconvert_exporter": "python",
   "pygments_lexer": "ipython3",
   "version": "3.5.2"
  }
 },
 "nbformat": 4,
 "nbformat_minor": 1
}
