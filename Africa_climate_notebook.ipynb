{
 "cells": [
  {
   "cell_type": "markdown",
   "metadata": {
    "slideshow": {
     "slide_type": "slide"
    }
   },
   "source": [
    "# Project Africa\n"
   ]
  },
  {
   "cell_type": "markdown",
   "metadata": {},
   "source": [
    "NEED SOME GENERAL INTRO HERE"
   ]
  },
  {
   "cell_type": "markdown",
   "metadata": {},
   "source": [
    "TO DO: seasonality index (paper, see climate dynamics lecture)\n",
    "interannual not monthly but yearly\n",
    "longitudinal variability\n"
   ]
  },
  {
   "cell_type": "markdown",
   "metadata": {},
   "source": [
    "# Preamble"
   ]
  },
  {
   "cell_type": "code",
   "execution_count": 36,
   "metadata": {
    "collapsed": false,
    "slideshow": {
     "slide_type": "skip"
    }
   },
   "outputs": [],
   "source": [
    "# Display the plots in the notebook:\n",
    "%matplotlib inline\n",
    "# Import the tools we are going to need today:\n",
    "import matplotlib.pyplot as plt  # plotting library\n",
    "import numpy as np  # numerical library\n",
    "import xarray as xr  # netCDF library\n",
    "import cartopy  # Map projections libary\n",
    "import cartopy.crs as ccrs  # Projections list\n",
    "# Some defaults:\n",
    "plt.rcParams['figure.figsize'] = (9, 7)  # Default plot size\n",
    "plt.rcParams['axes.formatter.useoffset'] = False\n",
    "np.set_printoptions(threshold=5)  # avoid to print very large arrays on screen\n",
    "# The commands below are to ignore certain warnings.\n",
    "import warnings\n",
    "warnings.filterwarnings('ignore', category=RuntimeWarning)\n",
    "warnings.filterwarnings('ignore', category=RuntimeWarning)\n",
    "#default slices for Africa:\n",
    "lat=slice(38, -38)\n",
    "lat_a=[-37,37]\n",
    "\n",
    "lon=slice(-20, 60)\n",
    "lon_a=[-19,60]\n",
    "\n",
    "# Change  color of TEXT locally with <font color='red'>TEXT</font>"
   ]
  },
  {
   "cell_type": "code",
   "execution_count": null,
   "metadata": {
    "collapsed": false,
    "slideshow": {
     "slide_type": "subslide"
    }
   },
   "outputs": [],
   "source": [
    "def prepare_plot(subplot=[1,1,1]):\n",
    "    \"\"\"This function returns prepared axes for the regional plot.\n",
    "    \n",
    "    Usage:\n",
    "        fig, ax = prepare_plot()\n",
    "    \"\"\"\n",
    "    ax = plt.subplot(subplot[0],subplot[1],subplot[2],projection=ccrs.PlateCarree())\n",
    "    ax.coastlines();\n",
    "    xl = ax.gridlines(draw_labels=True);\n",
    "    xl.xlabels_top = False\n",
    "    xl.ylabels_right = False\n",
    "    ax.add_feature(cartopy.feature.BORDERS, linestyle='-',linewidth=0.3);\n",
    "    ax.set_xlim(lon_a)\n",
    "    ax.set_ylim(lat_a)\n",
    "\n",
    "    return ax"
   ]
  },
  {
   "cell_type": "markdown",
   "metadata": {},
   "source": [
    "# Terrain of Africa"
   ]
  },
  {
   "cell_type": "code",
   "execution_count": null,
   "metadata": {
    "collapsed": false,
    "slideshow": {
     "slide_type": "slide"
    }
   },
   "outputs": [],
   "source": [
    "inv = xr.open_dataset('./data/ERA-Int-Invariant.nc').sel(latitude=lat,longitude=lon)\n",
    "z=inv.z/9.81\n",
    "z=z*inv.lsm\n",
    "ax = prepare_plot()\n",
    "z.plot.contourf(ax=ax, transform=ccrs.PlateCarree(), levels=np.arange(0,2500,200),vmin=0, cmap='terrain',cbar_kwargs={'label':'Surface geopotential height [m]'});\n",
    "ax.set_xlabel('Longitude [°]')\n",
    "ax.set_ylabel('Latitude [°]')\n",
    "plt.title('Terrain of Africa')"
   ]
  },
  {
   "cell_type": "markdown",
   "metadata": {},
   "source": [
    "A topographic map of the African continent can be seen above. It is immediately obvious that the continent is structurally divided into two parts based on latitude. The northern half of the continent is directed in an east-west direction, while the southern half has a more longitudinal orientation.\n",
    "\n",
    "Africa is separated from Europe by the Mediterranean Sea and from Asia by the Red Sea. Though its average elevation (approximately 600m asl) compares roughly to that of North and South America, Africa is unique in that it has a very small region of low and high elevation land. Areas of moderate elevation between 400 and 1200 meters make up the majority of the continent. Regions of elevation below 200 meters are in general confined to the immediate coastal region. The western edge of the southern continental half is extreme in this regard, with only a very narrow region of low elevation near the coast and an immediate increase in elevation to the southern plateau region (including the Great Karoo and the Kalahari Desert).\n",
    "\n",
    "Near the Mediterranean Sea at approximately 30°N, the Atlas Mountains span 2500km through Morocco, Algeria and Tunisia, reaching a maximum height of 4167m at Jebel Toubkal. Moving southeast towards the center of the continent, one finds the Sahara Desert. The Sahara is the largest hot desert in the world (the third largest overall after Antarctica and the Arctic region). To the north it is bounded by the Mediterranean Sea and the Atlas Mountains, to the east by the Red Sea, to the west by the Atlantic Ocean and to the south by the Sahel, a semi-arid tropical savanna. The Nile, Africa's longest river, flows from south to north through the eastern part of the Sahara, enabling a narrow band of vegetation on either side.\n",
    "\n",
    "The plateau region of Africa, with elevations rarely below 600m can be divided into two subplateaus: the South African Plateau and the East African Plateau. The South African Plateau is bounded to the east, west and south by higher ground. To the north, the elevation drops as one approaches the Congo Basin. The South African Plateau is connected to the East African Plateau by a series of meridionally oriented features (tablelands, ridges, depressions, etc.) caused by tectonic activity. \n",
    "\n",
    "The Albertine Rift is the westernmost of these depressions and contains the lakes of Tanganyika, Kivu, Edward, and Albert. The eastern depression has much smaller lakes with the exception of Lake Turkana. These lakes are not visible in the topographic map above. The only easily visible lake is Lake Victoria which is located between the two previously mentioned lake belts in eastern Africa. The surface elevation of the lake is 1133m which is not captured in our data set (the data set has a surface elevation for Lake Victoria of 0m asl). \n",
    "\n",
    "A little further to the northeast, the Ethiopian Highlands can be found. This mountainous region contains the highest continuous area in Africa. Most of its area is above 1500m asl, and its highest peaks reach heights of around 4500m. Mt. Kilimanjaro (5895m), the highest mountain in Africa, is not located in the Ethiopian Highlands, but is rather an isolated volcano to the east of the eastern branch of the East African Rift Valley.\n",
    "\n",
    "The last major geographical feature of the African continent is the Congo Basin. The basin is located in the western half of Africa and near the Equator. The Congo River has a length of 4700km (9th longest), the second largest river discharge in the world, and it is also the world's deepest river (depths of up to 220m!). The basin has an area of 4 million square kilometers and covers approximately one eighth of the continent.\n"
   ]
  },
  {
   "cell_type": "markdown",
   "metadata": {},
   "source": [
    "# Temperatures"
   ]
  },
  {
   "cell_type": "code",
   "execution_count": null,
   "metadata": {
    "collapsed": false
   },
   "outputs": [],
   "source": [
    "T = xr.open_dataset('./data/ERA-Int-Monthly-2mTemp.nc')\n",
    "\n",
    "T=T.sel(latitude=lat,longitude=lon)\n",
    "T=T.where(inv.lsm==1).t2m-273\n"
   ]
  },
  {
   "cell_type": "code",
   "execution_count": null,
   "metadata": {
    "collapsed": false
   },
   "outputs": [],
   "source": [
    "ax=prepare_plot()\n",
    "(T.mean(\"time\")).plot.contourf(ax=ax, cmap=\"RdYlBu_r\",transform=ccrs.PlateCarree(),levels=np.arange(10,32,2),cbar_kwargs={'label':'2m-Temperature [°C]'})\n",
    "plt.title('Surface temperatures')"
   ]
  },
  {
   "cell_type": "markdown",
   "metadata": {},
   "source": [
    "Plotted above are the 2m surface temperatures averaged over the entire (30 year) data set. It is immediately seen that the highest average temperatures, containing a large region with average temperatures above 28°C and even some regions above 30°C, are confined to the region between 0°N and 30°N, especially around a latitude of 15°N, in the Sahara. \n",
    "\n",
    "Regions of average surface temperature below 18°C are confined to regions of high elevation in the Atlas Mountains, the Ethiopian Highlands and the highest parts of the South African Plateau in South Africa and Lesotho including the Drakensberg.\n",
    "\n",
    "Around the equator, in the region characterised by low level convergence and thus rising air, the temperature is more moderate when compared to the Sahara region further north which has (at the top of the atmosphere) a lower average annual solar insolation. The reason for this lower average temperature at the equator is exactly due to this intertropical convergence zone (also known as monsoon trough). Since this equatorial region is characterised by high convective cloud cover, less of the solar insolation reaches the ground since a lot of it is reflected or absorbed at high altitudes.\n",
    "\n",
    "In contrast, the Sahara is located at a region of subsidence in the northern Hadley cell. This subsidence results in adiabatic heating and dry air. The dry air and absence of cloud cover result in a higher average surface solar insolation in the Sahara. <font color='red'>(Maybe plotting shortwave surface fluxes is appropriate to support this)</font> This is the reason for the higher temperatures there. "
   ]
  },
  {
   "cell_type": "code",
   "execution_count": null,
   "metadata": {
    "collapsed": false
   },
   "outputs": [],
   "source": [
    "fig=plt.figure()\n",
    "fig.suptitle('Seasonally averaged temperatures')\n",
    "for i,s in enumerate(['DJF','MAM','JJA','SON']):\n",
    "    ax=prepare_plot([2,2,i+1])\n",
    "    T_s = T.where(T['time.season'] == s)\n",
    "    T_s= T_s.rolling(min_periods=3, center=True, time=3).mean()\n",
    "    T_s = T_s.groupby('time.year').mean('time')[1:, ...].mean('year')\n",
    "    T_s.plot.contourf(ax=ax, cmap=\"RdYlBu_r\",transform=ccrs.PlateCarree(),levels=np.arange(10,32,2),cbar_kwargs={'label':'2m-Temperature [°C]'})\n",
    "    plt.title(s)\n"
   ]
  },
  {
   "cell_type": "markdown",
   "metadata": {},
   "source": [
    "In the figure above, we see 2m surface temperatures averaged by season over the data set. For each season, we have three monthly values of temperature for each year. So for each geographical location in each subfigure, we have 3x30=90 data points that are averaged. It is important to note that the meteorological seasons differ from the calendar seasons by approximately three weeks. December 1 is the start of the meteorological winter compared to December 21/22 for the calendar winter.\n",
    "The region with the highest average temperature shifts with the seasons. \n",
    "\n",
    "In the winter, the highest temperatures are located between 0° and 15°N and between 30°S and 15°S. In the summer, this region moves northward to between 15°N and 30°N. This shift is caused by the seasonal variation in the intertropical convergence zone due to solar elevation angle changes caused by the earth's axis tilt with respect to its solar orbit. As the ITCZ moves north, the Hadley cell also shifts to the north and thus, the regions of subsidence and higher temperatures also shift. As we would expect, the regions of maximal average temperature are quite similar in fall and spring when the maximum average solar elevation angle is located at the equator.\n",
    "\n",
    "Note: When we use the terms winter, summer, spring and fall, we are referring to the times of the year corresponding to that season in the northern hemisphere. <font color='red'>Maybe put this further up. Winter and summer confused me until I read this ;)</font>"
   ]
  },
  {
   "cell_type": "code",
   "execution_count": null,
   "metadata": {
    "collapsed": false
   },
   "outputs": [],
   "source": [
    "ax=prepare_plot()\n",
    "(T.groupby('time.month').std('time').sel(month=7)).plot.contourf(ax=ax,levels=np.arange(0,3,0.2),cmap=\"RdYlBu_r\",transform=ccrs.PlateCarree(),cbar_kwargs={'label':'2m-Temperature std [°C]'})\n",
    "plt.title('Surface temperature interannual monthly standard deviation')\n"
   ]
  },
  {
   "cell_type": "code",
   "execution_count": null,
   "metadata": {
    "collapsed": false
   },
   "outputs": [],
   "source": [
    "ax=prepare_plot()\n",
    "(T.groupby('time.month').mean('time').std('month')).plot.contourf(ax=ax,levels=np.arange(0,11,1), cmap=\"RdYlBu_r\",transform=ccrs.PlateCarree(),cbar_kwargs={'label':'2m-Temperature std [°C]'})\n",
    "plt.title('Surface temperature innerannual standard deviation')"
   ]
  },
  {
   "cell_type": "markdown",
   "metadata": {},
   "source": [
    "\n",
    "<font color='red'>Distinguish between interannual and innerannual( or shall we call it itraannual?)  Say something about maritime and continental climate affecting innerannual variation, since directly at the coast west of the Sahara (and also but less North of it), lower stds are found (also in Southern Africa). East of it there is not such a change (-> connected to dominating winds (see later)!)</font>\n",
    "\n",
    "We calculated the standard deviation of average monthly temperature for the 30 year data set. As expected, the regions of lowest variation are located in the Congo Basin around the equator which is characterised year round by high convective clouds and the effect of the convergence zone. Although the exact location of the ITCZ shifts with the seasons, the convergence region is quite broad and the shift in location does not result in as much variation near the central oscillation location when compared to the regions nearer to the subsidence of the Hadley cell.\n",
    "\n",
    "The highest variability in temperature occurs in the northern Sahara which, during the winter months, can be influenced by arctic air masses from nearby Europe, but experiences extremely warm summers. The further south one travels in the Sahara, the smaller the temperature variability. Analogously, in the southern Hadley cell, one sees a maximum temperature variability in the South African Plateau at a similar latitude deviation from the equator (approximately 30°)."
   ]
  },
  {
   "cell_type": "code",
   "execution_count": null,
   "metadata": {
    "collapsed": false
   },
   "outputs": [],
   "source": [
    "ax=prepare_plot()\n",
    "(T.max(\"time\")).plot.contourf(ax=ax,levels=15, cmap=\"RdYlBu_r\",transform=ccrs.PlateCarree(),cbar_kwargs={'label':'2m-Temperature [°C]'})\n",
    "plt.title('Surface temperature monthly maximum')"
   ]
  },
  {
   "cell_type": "markdown",
   "metadata": {},
   "source": [
    "The maximum average monthly surface temperature is greatest in the northwestern Sahara, in central Algeria. The lowest maximum monthly temperatures, apart from the high elevation regions, are located in the Congo basin. At first glance this would be surprising since this region is located near the Equator, but the color scale overemphasizes the magnitude of the cold. In the Congo Basin, the maximum monthly average temperature is on the order of 26°C. For comparison, the maximum monthly average temperature in Innsbruck is below 20°C. Such a low temperature is found in Africa only at very high elevations in the Southern Plateau and the Ethiopian highlands. \n",
    "\n",
    "<font color='red'>So Africa is a rather hot continent!</font>"
   ]
  },
  {
   "cell_type": "code",
   "execution_count": null,
   "metadata": {
    "collapsed": false
   },
   "outputs": [],
   "source": [
    "ax=prepare_plot()\n",
    "(T.min(\"time\")).plot.contourf(ax=ax,levels=np.arange(0,28,2), cmap=\"RdYlBu_r\",transform=ccrs.PlateCarree(),cbar_kwargs={'label':'2m-Temperature [°C]'})\n",
    "plt.title('Surface temperature monthly minimum')"
   ]
  },
  {
   "cell_type": "markdown",
   "metadata": {},
   "source": [
    "The minimum average monthly temperatures are now plotted. Here we see the highest minimum temperatures are located around the equator where the temperature remains relatively constant with season. This is exactly what we would expect given the information about standard deviation of monthly temperature found in a previous figure. Comparing the color scale in the Congo Basin between this figure and the previous figure with maximum monthly temperatures is helpful. <font color='red'>Shall we use the same colorscale?!</font> The red region in this figure corresponds to the blue region in the previous figure. \n",
    "\n",
    "The lowest average monthly temperatures can be quite low in the northern and southern extents of Africa. In the higher regions of the Sahara there are average monthly temperatures below 6°C.<font color='red'>But is hardly anywhere below 0!</font> The Atlas Mountains and Drakensberg are even colder. Along the Atlantic coastline of the western Sahara, one can see the moderating effect on temperature of the ocean (which has a large heat capacity and whose temperature is not as affected by seasonal variations in solar insolation as regions inland). For a given latitude (take 23°N as an example) the minimum average monthly temperature is higher near the coast and decreases inland."
   ]
  },
  {
   "cell_type": "code",
   "execution_count": null,
   "metadata": {
    "collapsed": false
   },
   "outputs": [],
   "source": [
    "T_month=T.groupby(\"time.month\").mean(['longitude','time'])\n",
    "T_month.T.plot.contourf(levels=np.arange(4,36,2),cmap=\"RdYlBu_r\",cbar_kwargs={'label':'2m-Temperature [°C]'})\n",
    "plt.title('Zonal average of surface temperature')\n",
    "plt.xlabel(\"Month\")\n",
    "plt.ylabel('Latitude [°]')\n",
    "plt.xticks(np.arange(1,13));\n"
   ]
  },
  {
   "cell_type": "markdown",
   "metadata": {},
   "source": [
    "Above we see a type of Hovmöller Diagram, with the temporal and spatial coordinates switched from the typical orientation<font color='red'>Sure?</font>. As expected, we see a wave like pattern with a period of a year and a temperature maximum in the north during summer and in the south during winter. The signal is much stronger during the summer than in winter. This is due to the large summer temperature maximum in the Sahara which covers almost the entire sector between 15°N and 30°N. The temperature minimum around 30°S during the northern summer is enhanced due to the high average elevation of the averaging region. During the northern winter, the opposite effect occurs and the maximum temperature is damped at 30°S due to the high elevation and the maximum temperature by latitude shifts northward to nearer 20°S.\n",
    "<font color='red'>But: rather nice symmetric features temporally and somewhat spatially (-> Africa has a rather orderly climate, so to say)\n",
    "\n",
    "Why is the Northern part (Sahara!) so different (more extreme) from the southern, is it due to the greater zonal extent or general circulation?</font>"
   ]
  },
  {
   "cell_type": "markdown",
   "metadata": {},
   "source": [
    "<font color='red'>Do we need a better storyline, connecting the different figures, maybe?</font>"
   ]
  },
  {
   "cell_type": "markdown",
   "metadata": {},
   "source": [
    "# Precipitation"
   ]
  },
  {
   "cell_type": "code",
   "execution_count": null,
   "metadata": {
    "collapsed": false
   },
   "outputs": [],
   "source": [
    "prec = xr.open_dataset('./data/ERA-Int-Monthly-P.nc')\n",
    "print(prec)\n",
    "prec=prec.sel(latitude=lat,longitude=lon)\n",
    "prec=prec.where(inv.lsm==1).tp"
   ]
  },
  {
   "cell_type": "code",
   "execution_count": null,
   "metadata": {
    "collapsed": false
   },
   "outputs": [],
   "source": [
    "ax=prepare_plot()\n",
    "(prec.mean(\"time\")*365).plot.contourf(ax=ax, cmap=\"RdYlBu_r\",transform=ccrs.PlateCarree(),levels=np.arange(0,3400,400),cbar_kwargs={'label':'Annual precipitation [mm/year]'})\n",
    "plt.title('Mean annual precipation')"
   ]
  },
  {
   "cell_type": "markdown",
   "metadata": {},
   "source": [
    "This figure shows annual precipitation (given in mm/year). For reference, the average annual precipitation in Innsbruck is 900mm/year. Clearly visible are the large arid regions in the north (Sahara) and the south (Great Karoo, Kalahari Desert). It is interesting to note that Namibia (with an annual precipitaiton of mainly less than 400mm/year) consists of a coastal mountain range. It is quite unusual to see coastal ranges with little precipitation and this indicates that the mean flow in this region is not westerly or we would see more orographic precipitation. Further east, we see the precipitation increase towards the coast, which is indicative of an easterly average flow between 15°S and 30°S.\n",
    "\n",
    "The maximum average annual precipitation is found in the Congo Basin and the southern coastal regions of West Africa near the equator in the ITCZ. Further east, we see local precipitation maxima caused by orographic precipitation in the Ethiopian Highlands, for example. In contrast to the region further south, precipitation decreases as one travels east across the continent near the equator. At the horn of Africa, there is even a coastal desert. We can again deduce a mean atmospheric flow from these precipitation data, but in this latitudinal region, the flow is more westerly. Looking at average wind speed data in later figures, we will see that there is no strong average westerly flow in this region. In the Congo Basin, there is a weak average westerly flow, but further east to the south of the Horn of Africa, the flow is more southerly in nature. This results in a rain shadow effect in northern Somalia.  <font color='red'>Also at the coast not really high precipitation!</font>"
   ]
  },
  {
   "cell_type": "code",
   "execution_count": null,
   "metadata": {
    "collapsed": true
   },
   "outputs": [],
   "source": [
    "#Interannual monthly variability and monthly means of precipitation\n",
    "prec_inter=prec.groupby(\"time.month\").std('time')*30\n",
    "prec_inner=prec.groupby(\"time.month\").mean('time')*30"
   ]
  },
  {
   "cell_type": "code",
   "execution_count": null,
   "metadata": {
    "collapsed": false
   },
   "outputs": [],
   "source": [
    "ax=prepare_plot()\n",
    "(prec_inter.sel(month=1)).plot.contourf(ax=ax, cmap=\"RdYlBu_r\",transform=ccrs.PlateCarree(),levels=np.arange(0,90,5),cbar_kwargs={'label':'Annual precipitation std [mm/month]'})\n",
    "plt.title('Annual precipation: interannual standard deviation')"
   ]
  },
  {
   "cell_type": "code",
   "execution_count": null,
   "metadata": {
    "collapsed": false
   },
   "outputs": [],
   "source": [
    "ax=prepare_plot()\n",
    "(prec_inner.std('month')).plot.contourf(ax=ax, cmap=\"RdYlBu_r\",transform=ccrs.PlateCarree(),levels=np.arange(0,130,10),cbar_kwargs={'label':'Annual precipitation std [mm/month]'})\n",
    "plt.title('Annual precipation: innerannual standard deviation')"
   ]
  },
  {
   "cell_type": "markdown",
   "metadata": {},
   "source": [
    "<font color='red'>Doesnt apply anymore i guess. Now two figures (inter and intraannual), but concentrate on coefficient of variation maybe. Explain why calculated like this!</font>.\n",
    "The interannual variability of precipitation is given by the annnual precipitation standard deviation. This is the standard deviation of the 30 yearly averages. This metric does not resolve any intra-annual variability. In other words, if a location has very distinct wet and dry seasons, this variability is not captured in the figure. We see a high yearly variability in regions with large average precipitations and especially in regions with large precipitation gradients. That is, we expect to see large interannual variability in regions where the average annual precipitation changes drastically over small spatial scales. Since the regions of precipitation within a certain year can be quite distinct, the exact location of the ITCZ (which is correlated with climate indices such as the ENSO) can be the difference between a very wet and a very dry year in regions of high standard deviation of annual precipitation. "
   ]
  },
  {
   "cell_type": "code",
   "execution_count": null,
   "metadata": {
    "collapsed": false
   },
   "outputs": [],
   "source": [
    "ax=prepare_plot()\n",
    "(prec_inter/prec_inner).mean('month').plot.contourf(ax=ax, cmap=\"RdYlBu_r\",transform=ccrs.PlateCarree(),levels=np.arange(0,5.5,0.5),cbar_kwargs={'label':'Coefficient of variation'})\n",
    "plt.title('Annual precipation: interannual coefficient of variation')"
   ]
  },
  {
   "cell_type": "code",
   "execution_count": null,
   "metadata": {
    "collapsed": false
   },
   "outputs": [],
   "source": [
    "ax=prepare_plot()\n",
    "(prec_inner.std('month')/(prec_inner.mean('month'))).plot.contourf(ax=ax, cmap=\"RdYlBu_r\",transform=ccrs.PlateCarree(),levels=np.arange(0,2.2,0.2),cbar_kwargs={'label':'Coefficient of variation'})\n",
    "plt.title('Annual precipation: innerannual coefficient of variation')"
   ]
  },
  {
   "cell_type": "markdown",
   "metadata": {},
   "source": [
    "<font color='red'>Again: two figures now. </font> To get a better metric for the variability of the precipitation at a certain location, we correct the standard deviation of precipitation for the average annual precipitation by examining their quotient and calling it the coefficient of variation of precipitation. This metric has an advantage over the standard deviation in that it corrects for the expectedly larger annual variation of precipitation in regions with large precipitation (it can be seen as a type of percentual variability). The coefficient of variation is especially useful when researching the effect of atmospheric variability on the environment. In a region where it rarely ever rains, years with 100mm/year of rain represent a drastic change and can greatly affect human life. A 100mm/year precipitation change in the Congo Basin will go unnoticed.\n",
    "\n",
    "Regions with a high coefficient of variation of precipitation include most regions of the Sahara between 15°N and 30°N and the coastal regions of Namibia and southern Angola. The variation in Namibia and Angola can be due to the large impact of shifting winds on orographic precipitation in the coastal mountain regions. If we have a shift from easterlies to westerlies, the precipitation amount will change from near zero to quite significant values, as the westerlies transport moist Atlantic air to the land, where the air is lifted, cools and condenses to form precipitation. "
   ]
  },
  {
   "cell_type": "code",
   "execution_count": null,
   "metadata": {
    "collapsed": false
   },
   "outputs": [],
   "source": [
    "fig=plt.figure()\n",
    "fig.suptitle('Seasonally averaged precipitation')\n",
    "for i,s in enumerate(['DJF','MAM','JJA','SON']):\n",
    "    ax=prepare_plot([2,2,i+1])\n",
    "    prec_s = prec.where(T['time.season'] == s)\n",
    "    prec_s= prec_s.rolling(min_periods=3, center=True, time=3).mean()\n",
    "    prec_s = prec_s.groupby('time.year').mean('time')[1:, ...].mean('year')\n",
    "    prec_s.plot.contourf(ax=ax, cmap=\"RdYlBu_r\",transform=ccrs.PlateCarree(),levels=np.arange(0,11,1),cbar_kwargs={'label':'Daily precipation [mm/day]'})\n",
    "    plt.title(s)"
   ]
  },
  {
   "cell_type": "markdown",
   "metadata": {},
   "source": [
    "During the winter months there are divergent northeasterlies north of the equator which result in subsidence and suppressed rainfall. <font color='red'>->put sfc winds also in the seasonal pressure plots to see this! </font>   As the ITCZ is at its southernmost extent during this time of the year, the precipitation maxima are shifted south and the Angolan high plateau has a distinct wet season. The North African coast experiences rainfall due to increased frontal activity <font color='red'>Only Marokko and Algeria, right? Also: isnt always like this except during JJA? </font> .\n",
    "\n",
    "In the spring, the ITCZ moves north, and with it the precipitation maxima. We especially see an increase in precipitation in Eastern Africa between 0° and 15°N. This is the first of two distinct wet seasons in this area. The local maximum in the western Ethiopian Highlands due to orographic precipitation is again distinctly visible.\n",
    "\n",
    "During the northern summer, the ITCZ has reached its northernmost extent. Although the surface pressure signal of the ITCZ has an amplitude of approximately 20°, the fluctuation in the precipitation signal to the north of the equator is clearly damped. There is never a large seasonal average precipitation north of 15°N in the Sahara. During the winter, the precipitation begins south of approximately 5°N. So, the amplitude of the fluctuation in the northern half is approximately 10°. Compare this to the surface pressure fluctuation amplitude of approximately 20° and the earth orbital axis tilt of 23.5°. In the southern half of Africa, the seasonal precipitation fluctuations more closely resemble the pressure fluctuations. <font color='red'>why? </font> \n",
    "\n",
    "In the fall months, the precipitation distribution is quite similar to that of the spring, with the second seasonal maximum visible in eastern Africa."
   ]
  },
  {
   "cell_type": "code",
   "execution_count": null,
   "metadata": {
    "collapsed": false
   },
   "outputs": [],
   "source": [
    "P_month=prec.groupby(\"time.month\").mean(['longitude','time'])\n",
    "P_month.T.plot.contourf(levels=np.arange(0,10,0.5),cmap=\"RdYlBu_r\",cbar_kwargs={'label':'Daily precipation [mm/day]'})\n",
    "plt.title('Zonal average of precipitation')\n",
    "plt.xlabel(\"Month\")\n",
    "plt.ylabel('Latitude [°]')\n",
    "plt.xticks(np.arange(1,13));\n"
   ]
  },
  {
   "cell_type": "markdown",
   "metadata": {},
   "source": [
    "In this Hovmöller Diagram, the amplitude difference between the northern and southern hemispheres discussed above is clearly visible. As we already know, around the equator there is no strong intra-annual variation in precipitation, and this is visible in the diagram. The band of strongest intra-annual variability is narrower in the northern hemisphere than in the southern hemisphere since the slope of the boundary separating strong and weak precipitation is shallower. In other words, the boundary between strong and weak precipitation moves further (in ° latitude) per month in the southern hemisphere than in the northern hemisphere. <font color='red'>Why? </font> "
   ]
  },
  {
   "cell_type": "markdown",
   "metadata": {},
   "source": [
    "## Sea-level pressure and surface winds  "
   ]
  },
  {
   "cell_type": "code",
   "execution_count": null,
   "metadata": {
    "collapsed": false
   },
   "outputs": [],
   "source": [
    "slp = xr.open_dataset('./data/ERA-Int-MonthlyAvg-UVSLP.nc')\n",
    "slp=slp.sel(latitude=lat,longitude=lon)\n",
    "#slp=slp.where(inv.lsm==1)\n",
    "SLP_m_zonal=slp.msl.mean([\"month\",'longitude'])/100\n"
   ]
  },
  {
   "cell_type": "code",
   "execution_count": null,
   "metadata": {
    "collapsed": false
   },
   "outputs": [],
   "source": [
    "ax=prepare_plot()\n",
    "(slp.msl.mean(\"month\")/100).plot.contourf(ax=ax, cmap=\"RdYlBu_r\",transform=ccrs.PlateCarree(),levels=np.arange(1008,1021,1),cbar_kwargs={'label':'Pressure [hPa]'})\n",
    "s=3\n",
    "wind_sfc=slp.mean('month')\n",
    "strm=ax.quiver(wind_sfc.longitude[::s],wind_sfc.latitude[::s],wind_sfc.u10[::s,::s].values,wind_sfc.v10[::s,::s].values,transform=ccrs.PlateCarree())\n",
    "plt.title('Mean sea level pressure and wind at 10 m')\n"
   ]
  },
  {
   "cell_type": "code",
   "execution_count": null,
   "metadata": {
    "collapsed": false
   },
   "outputs": [],
   "source": [
    "for i,m in enumerate([['January',1],['April',4],['July',7],['Oktober',10]]):\n",
    "    ax=prepare_plot([2,2,i+1])\n",
    "    (slp.msl.sel(month=m[1])/100-slp.msl.mean(\"month\")/100).plot.contourf(ax=ax ,extend='both',levels=np.arange(-10,12,2),cmap=\"RdYlBu_r\",transform=ccrs.PlateCarree(),cbar_kwargs={'label':'Pressure [hPa]'})\n",
    "    strm=ax.quiver(wind_sfc.longitude[::s],wind_sfc.latitude[::s],wind_sfc.u10[::s,::s].values,wind_sfc.v10[::s,::s].values,transform=ccrs.PlateCarree())\n",
    "    plt.title(m[0])"
   ]
  },
  {
   "cell_type": "markdown",
   "metadata": {},
   "source": [
    "## General circulation of the atmopshere"
   ]
  },
  {
   "cell_type": "code",
   "execution_count": null,
   "metadata": {
    "collapsed": false
   },
   "outputs": [],
   "source": [
    "uvwz = xr.open_dataset('./data/ERA-Int-MonthlyAvg-4D-UVWZ.nc').sel(latitude=lat,longitude=lon)\n",
    "#uvwz=uvwz.where(inv.lsm==1)\n",
    "z_zonal=uvwz.z.mean(\"longitude\")\n",
    "z_m_zonal=uvwz.z.mean([\"month\",'longitude'])/9.81\n",
    "z_m_zonal_dev=z_m_zonal-z_m_zonal.mean('latitude')\n"
   ]
  },
  {
   "cell_type": "markdown",
   "metadata": {},
   "source": [
    "### Geopotential and zonal winds "
   ]
  },
  {
   "cell_type": "code",
   "execution_count": null,
   "metadata": {
    "collapsed": false
   },
   "outputs": [],
   "source": [
    "uvwz.w.mean([\"longitude\"]).sel(month=4).plot.contourf(levels=np.linspace(-0.05,0.05,10),cbar_kwargs={'label':'u [m/s]'})\n",
    "plt.ylabel(\"Pressure [hPa]\")\n",
    "plt.grid()\n",
    "plt.xlim(lat_a)\n",
    "plt.ylim(1000,50)\n"
   ]
  },
  {
   "cell_type": "code",
   "execution_count": null,
   "metadata": {
    "collapsed": false
   },
   "outputs": [],
   "source": [
    "p_low=900\n",
    "p_mid=500\n",
    "p_up=200\n",
    "wind_low=uvwz.mean('month').sel(level=p_low)\n",
    "wind_mid=uvwz.mean('month').sel(level=p_mid)\n",
    "wind_up=uvwz.mean('month').sel(level=p_up)\n",
    "s=3\n",
    "for wind,p in [[wind_low,p_low],[wind_mid,p_mid],[wind_up,p_up]]:\n",
    "    fig=plt.figure()\n",
    "    ax=prepare_plot()\n",
    "    u_total=(wind.u**2+wind.v**2)**0.5\n",
    "    (wind.z/9.81).plot.contourf(ax=ax, levels=12, cmap=\"RdYlBu_r\",transform=ccrs.PlateCarree(),cbar_kwargs={'label':'Geopotential height [m]'})\n",
    "    strm=ax.quiver(wind.longitude[::s],wind.latitude[::s],wind.u[::s,::s].values,wind.v[::s,::s].values,transform=ccrs.PlateCarree())\n",
    "    plt.title('Wind and geopotential at {0} hPa'.format(p))\n"
   ]
  },
  {
   "cell_type": "markdown",
   "metadata": {},
   "source": [
    "# ENSO\n"
   ]
  },
  {
   "cell_type": "code",
   "execution_count": null,
   "metadata": {
    "collapsed": true
   },
   "outputs": [],
   "source": [
    "nino_yrs = [1980, 1983, 1987, 1988, 1992, 1995, 1998, 2003, 2007, 2010]\n",
    "nina_yrs = [1989, 1999, 2000, 2008, 2011, 2012]"
   ]
  },
  {
   "cell_type": "markdown",
   "metadata": {},
   "source": [
    "### Temperature"
   ]
  },
  {
   "cell_type": "code",
   "execution_count": null,
   "metadata": {
    "collapsed": false
   },
   "outputs": [],
   "source": [
    "t2m_djf = T.where(T['time.season'] == 'DJF')\n",
    "t2m_djf = t2m_djf.rolling(min_periods=3, center=True, time=3).mean()\n",
    "t2m_djf = t2m_djf.groupby('time.year').mean('time')"
   ]
  },
  {
   "cell_type": "code",
   "execution_count": null,
   "metadata": {
    "collapsed": false
   },
   "outputs": [],
   "source": [
    "djf_anomaly_nino=t2m_djf.sel(year=nino_yrs).mean('year')-t2m_djf.mean('year')\n",
    "ax=prepare_plot()\n",
    "djf_anomaly_nino.plot.contourf(ax=ax,extend='both',levels=np.arange(-1.4,1.4,0.2),cmap=\"RdYlBu_r\", transform=ccrs.PlateCarree(),cbar_kwargs={'label':'Temperature anomaly [°C]'})\n",
    "plt.title('El nino DJF composite anomalies - Temperature')\n",
    "\n",
    "plt.figure()\n",
    "djf_anomaly_nina=t2m_djf.sel(year=nina_yrs).mean('year')-t2m_djf.mean('year')\n",
    "ax=prepare_plot()\n",
    "djf_anomaly_nina.plot.contourf(ax=ax,extend='both',levels=np.arange(-1.2,1.4,0.2),cmap=\"RdYlBu_r\", transform=ccrs.PlateCarree(),cbar_kwargs={'label':'Temperature anomaly [°C]'})\n",
    "plt.title('La nina DJF composite anomalies - Temperature')"
   ]
  },
  {
   "cell_type": "markdown",
   "metadata": {},
   "source": [
    "### Precipitation"
   ]
  },
  {
   "cell_type": "code",
   "execution_count": null,
   "metadata": {
    "collapsed": true
   },
   "outputs": [],
   "source": [
    "p_djf = prec.where(prec['time.season'] == 'DJF')\n",
    "p_djf = p_djf.rolling(min_periods=3, center=True, time=3).mean()\n",
    "p_djf = p_djf.groupby('time.year').mean('time')"
   ]
  },
  {
   "cell_type": "code",
   "execution_count": null,
   "metadata": {
    "collapsed": false
   },
   "outputs": [],
   "source": [
    "p_anomaly_nino=p_djf.sel(year=nino_yrs).mean('year')-p_djf.mean('year')\n",
    "ax=prepare_plot()\n",
    "p_anomaly_nino.plot.contourf(ax=ax,cmap=\"RdYlBu_r\",extend='both',levels=np.arange(-1.6,2,0.4),transform=ccrs.PlateCarree(),cbar_kwargs={'label':'Precipitation anomaly [mm/day]'})\n",
    "plt.title('El nino DJF composite anomalies - Precipitation')\n",
    "\n",
    "plt.figure()\n",
    "p_anomaly_nina=p_djf.sel(year=nina_yrs).mean('year')-p_djf.mean('year')\n",
    "ax=prepare_plot()\n",
    "p_anomaly_nina.plot.contourf(ax=ax,cmap=\"RdYlBu_r\",extend='both',levels=np.arange(-1.6,2,0.4),transform=ccrs.PlateCarree(),cbar_kwargs={'label':'Precipitation anomaly [mm/day]'})\n",
    "plt.title('La nina DJF composite anomalies - Precipitation')\n"
   ]
  },
  {
   "cell_type": "code",
   "execution_count": null,
   "metadata": {
    "collapsed": true
   },
   "outputs": [],
   "source": []
  }
 ],
 "metadata": {
  "kernelspec": {
   "display_name": "Python 3",
   "language": "python",
   "name": "python3"
  },
  "language_info": {
   "codemirror_mode": {
    "name": "ipython",
    "version": 3
   },
   "file_extension": ".py",
   "mimetype": "text/x-python",
   "name": "python",
   "nbconvert_exporter": "python",
   "pygments_lexer": "ipython3",
   "version": "3.5.2"
  }
 },
 "nbformat": 4,
 "nbformat_minor": 1
}
