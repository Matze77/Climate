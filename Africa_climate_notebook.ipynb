{
 "cells": [
  {
   "cell_type": "markdown",
   "metadata": {},
   "source": [
    "<font color='red'>TO DO:</font> \n",
    "\n",
    "- GENERAL INTRO (what is this document, which data did we use, who did what) -> **Alex**\n",
    "- connect paragraphs ->  **Alex**\n",
    "- cite papers in text + put references in the end ->  **Alex** http://onlinelibrary.wiley.com/doi/10.1002/qj.49710142802/full\n",
    "- Paper for interannual variability in Sahara: Seasonal and year-to-year variations of rainfall in the Sahara desert\n",
    "region based on TRMM PR data\n",
    "- describe ENSO -> Matthias\n",
    "- Write short conclusion in the end \n",
    "- revision: watch for mistakes, adjust colorbars where necessary, remove comments"
   ]
  },
  {
   "cell_type": "markdown",
   "metadata": {},
   "source": [
    "\n",
    "<font color='red'>CHANGES IN THIS VERSION (Matze and Alex):</font> \n",
    "\n",
    "- from matplotlib.backends.backend_pdf import PdfPages as pdf for saving via pdf.savefig('penis.pdf')\n",
    "\n",
    "- El Nino: 'El Ni\\u00F1o'\n",
    "- figcount to put figure number into  each title if **use_figcount==True** in Preamble\n",
    " can be referenced using {{figcount}} in a markdown cell (needs extension python markdown enabled)\n",
    "- Added text to advanced coefficient of variation\n",
    "\n",
    "Thomas:\n",
    "- updated temperature section (wrote a lot about interannual variability) made new plot with ratio of two metrics\n",
    "- changed description/title of max and min monthly temperature since they are warmest and coldest months on record, not averages\n",
    "- I got down to intra-annual standard deviation of precipitation, rest needs some work...\n",
    "\n"
   ]
  },
  {
   "cell_type": "markdown",
   "metadata": {},
   "source": [
    "# Project Africa\n"
   ]
  },
  {
   "cell_type": "markdown",
   "metadata": {},
   "source": [
    "This document analyses some aspects of the African climate in the period of 1979 to 2014. The base were monthly averaged reanalysis data from ERA-Intermin of 2m temperature, precipitation, evaporation, horizontal wind components at 10m, sea level pressure as well as wind components and geopotential height at 15 pressure levels  with a resolution of 075° x 0.75° (approx. 83.5km x 83.5km). \n",
    "\n",
    "Alexander Kehl did some research on the papers and designed the presentation, Matthias Göbl did most of the plots and merged all the different jupyter-notebooks when we were working simultaneously on them with the software git, Thomas Muschinski did most of the writing. All of us discussed extensively about the plots.\n",
    "\n",
    "<font color='red'>Required Python packages:</font> Mathias?"
   ]
  },
  {
   "cell_type": "markdown",
   "metadata": {},
   "source": [
    "# Preamble"
   ]
  },
  {
   "cell_type": "code",
   "execution_count": null,
   "metadata": {},
   "outputs": [],
   "source": [
    "# Display the plots in the notebook:\n",
    "%matplotlib inline\n",
    "# Import the tools we are going to need today and tomorrow and the day after tomorrow:\n",
    "import matplotlib.pyplot as plt  # plotting library\n",
    "import numpy as np  # numerical library\n",
    "import xarray as xr  # netCDF library\n",
    "import cartopy  # Map projections libary\n",
    "import cartopy.crs as ccrs  # Projections list\n",
    "from scipy import stats\n",
    "from scipy.optimize import curve_fit\n",
    "from matplotlib.backends.backend_pdf import PdfPages as pdf #saving plots as pdf, esp. useful for lists (e.g. after group.by)\n",
    "# Some defaults:\n",
    "factor=1.\n",
    "plt.rcParams['figure.figsize'] = (factor*9, factor*7)  # Default plot size\n",
    "plt.rcParams['axes.formatter.useoffset'] = False\n",
    "np.set_printoptions(threshold=5)  # avoid to print very large arrays on screen\n",
    "# The commands below are to ignore certain warnings.\n",
    "import warnings\n",
    "warnings.filterwarnings('ignore', category=RuntimeWarning)\n",
    "warnings.filterwarnings('ignore', category=RuntimeWarning)\n",
    "#default slices for Africa:\n",
    "lat=slice(38, -38)\n",
    "lat_a=[-37,37]\n",
    "\n",
    "lon=slice(-20, 52)\n",
    "lon_a=[-19,52]\n",
    "\n",
    "figcount=1 #counts figures to add number to title\n",
    "use_figcount=False\n"
   ]
  },
  {
   "cell_type": "code",
   "execution_count": null,
   "metadata": {},
   "outputs": [],
   "source": [
    "def prepare_plot(subplot=[1,1,1],lat=lat_a,lon=lon_a):\n",
    "    \"\"\"This function returns prepared axes for the regional plot.\n",
    "    \n",
    "    Usage:\n",
    "        fig, ax = prepare_plot()\n",
    "    \"\"\"\n",
    "    ax = plt.subplot(subplot[0],subplot[1],subplot[2],projection=ccrs.PlateCarree())\n",
    "    ax.coastlines();\n",
    "    xl = ax.gridlines(draw_labels=True);\n",
    "    xl.xlabels_top = False\n",
    "    xl.ylabels_right = False\n",
    "    ax.add_feature(cartopy.feature.BORDERS, linestyle='-',linewidth=0.3);\n",
    "    ax.set_xlim(lon)\n",
    "    ax.set_ylim(lat)\n",
    "\n",
    "    return ax\n",
    "\n",
    "def add_title(figcount,title):\n",
    "    if use_figcount:\n",
    "        plt.title(str(figcount)+\": \"+title)\n",
    "    else:\n",
    "        plt.title(title)\n",
    "    figcount+=1\n",
    "    return figcount"
   ]
  },
  {
   "cell_type": "markdown",
   "metadata": {},
   "source": [
    "# Terrain of Africa"
   ]
  },
  {
   "cell_type": "code",
   "execution_count": null,
   "metadata": {},
   "outputs": [],
   "source": [
    "inv = xr.open_dataset('./data/ERA-Int-Invariant.nc').sel(latitude=lat,longitude=lon)\n",
    "z=inv.z/9.81\n",
    "z=z*inv.lsm\n",
    "f = plt.figure()\n",
    "ax = prepare_plot()\n",
    "z.plot.contourf(ax=ax, transform=ccrs.PlateCarree(), levels=np.arange(0,2500,200),vmin=0, cmap='terrain',cbar_kwargs={'label':'Surface geopotential height [m]'});\n",
    "ax.set_xlabel('Longitude [°]')\n",
    "ax.set_ylabel('Latitude [°]') \n",
    "figcount=add_title(figcount,'Terrain of Africa')\n",
    "#f.savefig(\"terrain.pdf\")"
   ]
  },
  {
   "cell_type": "code",
   "execution_count": null,
   "metadata": {},
   "outputs": [],
   "source": [
    "inv\n",
    "40075.017/360*0.75"
   ]
  },
  {
   "cell_type": "markdown",
   "metadata": {},
   "source": [
    "A topographic map of the African continent can be seen above. It is immediately obvious that the continent is structurally divided into two parts based on latitude. The northern half of the continent is directed in an east-west direction, while the southern half has a more meridional orientation.\n",
    "\n",
    "Africa is separated from Europe by the Mediterranean Sea and from Asia by the Red Sea. Though its average elevation (approximately 600m asl) compares roughly to that of North and South America, Africa is unique in that it has a very small region of low and high elevation land. Areas of moderate elevation between 400 and 1200 meters make up the majority of the continent. Regions of elevation below 200 meters are in general confined to the immediate coastal region. The western edge of the southern continental half is extreme in this regard, with only a very narrow region of low elevation near the coast and an immediate increase in elevation to the southern plateau region (including the Great Karoo and the Kalahari Desert).\n",
    "\n",
    "Near the Mediterranean Sea at approximately 30°N, the Atlas Mountains span 2500km through Morocco, Algeria and Tunisia, reaching a maximum height of 4167m at Jebel Toubkal. Moving southeast towards the center of the continent, one finds the Sahara Desert. The Sahara is the largest hot desert in the world (the third largest overall after Antarctica and the Arctic region). To the north it is bounded by the Mediterranean Sea and the Atlas Mountains, to the east by the Red Sea, to the west by the Atlantic Ocean and to the south by the Sahel, a semi-arid tropical savanna. The Nile, Africa's longest river, flows from south to north through the eastern part of the Sahara, supplying moisture to a narrow band of vegetation on either side.\n",
    "\n",
    "The plateau region of Africa, with elevations rarely below 600m can be divided into two subplateaus: the South African Plateau and the East African Plateau. The South African Plateau is bounded to the east, west and south by higher ground. To the north, the elevation drops as one approaches the Congo Basin. The South African Plateau is connected to the East African Plateau by a series of meridionally oriented features (tablelands, ridges, depressions, etc.) caused by tectonic activity. \n",
    "\n",
    "The Albertine Rift is the westernmost of these depressions and contains the lakes of Tanganyika, Kivu, Edward, and Albert. The eastern depression has much smaller lakes with the exception of Lake Turkana. These lakes are not visible in the topographic map above. The only easily visible lake is Lake Victoria which is located between the two previously mentioned lake belts in eastern Africa. The surface elevation of the lake is 1133m which is not captured in our data set (the data set has a surface elevation for Lake Victoria of 0m asl as it is included in the ocean map).  \n",
    "\n",
    "A little further to the northeast, the Ethiopian Highlands can be found. This mountainous region contains the highest continuous area in Africa. Most of its area is above 1500m asl, and its highest peaks reach heights of around 4500m. Mt. Kilimanjaro (5895m), the highest mountain in Africa, is not located in the Ethiopian Highlands, but is rather an isolated volcano to the east of the eastern branch of the East African Rift Valley.\n",
    "\n",
    "The last major geographical feature of the African continent is the Congo Basin. The basin is located in the western half of Africa and near the Equator. The Congo River has a length of 4700km (9th longest), the second largest river discharge in the world, and it is also the world's deepest river (depths of up to 220m!). The basin has an area of 4 million square kilometers and covers approximately one eighth of the continent.\n",
    "\n",
    "The topography has an impact on all the climatological parameters discussed later and it will be referred to it where necessary."
   ]
  },
  {
   "cell_type": "markdown",
   "metadata": {},
   "source": [
    "# Temperatures"
   ]
  },
  {
   "cell_type": "code",
   "execution_count": null,
   "metadata": {},
   "outputs": [],
   "source": [
    "T = xr.open_dataset('./data/ERA-Int-Monthly-2mTemp.nc')\n",
    "#Select latitude and longitude\n",
    "T=T.sel(latitude=lat,longitude=lon)\n",
    "#Exclude sea and convert to Celsius\n",
    "T=T.where(inv.lsm==1).t2m-273\n",
    "\n",
    "#Exlude Arabian Peninsula\n",
    "for i,lati in enumerate(T.latitude.values):\n",
    "    for j,loni in enumerate(T.longitude.values):\n",
    "        if (loni>34 and lati>12 and inv.lsm.sel(latitude=lati,longitude=loni)==0) or (lati>27 and lati<32 and loni>34):\n",
    "            T[:,i,j:]=np.nan\n",
    "            break\n",
    "#weights to compute meridional averages: \n",
    "#normalization factor is different for different longitude, since the extent of the landsurface is different\n",
    "weights=T.mean('time') #to take all landsurface points in Africa\n",
    "weights=weights/weights*np.cos(np.deg2rad(T.latitude)) #and attribute the corresponding weight to it\n",
    "weights=weights/weights.sum('latitude') #normalization factor: sum of all defined weights at a specific longitude\n",
    "    "
   ]
  },
  {
   "cell_type": "code",
   "execution_count": null,
   "metadata": {},
   "outputs": [],
   "source": [
    "plt.figure()\n",
    "ax=prepare_plot()\n",
    "(T.mean(\"time\")).plot.contourf(ax=ax, cmap=\"RdYlBu_r\",transform=ccrs.PlateCarree(),levels=np.arange(10,32,2),cbar_kwargs={'label':'2m-Temperature [°C]'})\n",
    "figcount=add_title(figcount,'Average Surface Temperatures')\n",
    "\n"
   ]
  },
  {
   "cell_type": "markdown",
   "metadata": {},
   "source": [
    "Plotted above are the 2m surface temperatures averaged over the entire data set. It is immediately seen that the highest average temperatures, containing a large region with average temperatures above 28°C and even some regions above 30°C, are confined to the region between 0°N and 30°N, especially around a latitude of 15°N, in the Sahara. \n",
    "\n",
    "Regions of average surface temperature below 18°C are confined to regions of high elevation in the Atlas Mountains, the Ethiopian Highlands and the highest parts of the South African Plateau in South Africa and Lesotho including the Drakensberg.\n",
    "\n",
    "Around the equator, in the region characterised by low level convergence and thus rising air, the temperature is more moderate when compared to the Sahara region further north which has (at the top of the atmosphere) a lower average annual solar insolation. The reason for this lower average temperature at the equator is exactly due to this intertropical convergence zone (also known as monsoon trough). Since this equatorial region is characterised by high convective cloud cover, less of the solar insolation reaches the ground since a lot of it is reflected or absorbed at high altitudes.\n",
    "\n",
    "In contrast, the Sahara is located at a region of subsidence in the northern Hadley cell. This subsidence results in adiabatic heating and dry air. The dry air and absence of cloud cover result in a higher average surface solar insolation in the Sahara. This is the reason for higher average surface temperatures there. "
   ]
  },
  {
   "cell_type": "code",
   "execution_count": null,
   "metadata": {},
   "outputs": [],
   "source": [
    "fig=plt.figure()\n",
    "fig.suptitle('{0}: Seasonally averaged surface temperatures'.format(figcount))\n",
    "figcount+=1\n",
    "for i,s in enumerate(['DJF','MAM','JJA','SON']):\n",
    "    ax=prepare_plot([2,2,i+1])\n",
    "    T_s = T.where(T['time.season'] == s)\n",
    "    T_s= T_s.rolling(min_periods=3, center=True, time=3).mean()\n",
    "    T_s = T_s.groupby('time.year').mean('time')[1:, ...].mean('year')\n",
    "    T_s.plot.contourf(ax=ax, cmap=\"RdYlBu_r\",transform=ccrs.PlateCarree(),levels=np.arange(10,32,2),cbar_kwargs={'label':'2m-Temperature [°C]'})\n",
    "    plt.title(s)\n",
    "#fig.savefig(\"seasonal_T.pdf\")"
   ]
  },
  {
   "cell_type": "markdown",
   "metadata": {},
   "source": [
    "Note: When we use the terms winter, summer, spring and fall, we are referring to the times of the year corresponding to that season in the northern hemisphere. \n",
    "\n",
    "In the figure above, we see 2m surface temperatures averaged by season over the data set. It is important to note that the meteorological seasons differ from the calendar seasons by approximately three weeks. December 1 is the start of the meteorological winter compared to December 21/22 for the calendar winter. The meteorologically defined seasons are more appropriate to use when explaining the effect of sun angle on climate since the equinoxes and solstices are located within the seasons rather than at the start and end of them as in the calendar seasons. The northern calendar winter starts on the day that the sun angle is lowest in the northern hemisphere, while effects of the low sun angle are seen more in early December than in early March. In Africa, as in most regions of the world, the region with the highest average temperature shifts with the seasons. \n",
    "\n",
    "In the winter, the highest temperatures are located between 0° and 15°N and between 30°S and 15°S. In the summer, this region moves northward to between 15°N and 30°N. This shift is caused by the seasonal variation in the intertropical convergence zone due to solar elevation angle changes caused by the earth's axis tilt with respect to its solar orbit. As the ITCZ moves north, the Hadley cell also shifts to the north and thus, the regions of subsidence and higher temperatures also shift. As we would expect, the regions of maximal average temperature are quite similar in fall and spring when the maximum average solar elevation angle is located at the equator.\n",
    "\n"
   ]
  },
  {
   "cell_type": "code",
   "execution_count": null,
   "metadata": {},
   "outputs": [],
   "source": [
    "ax=prepare_plot()\n",
    "(T.groupby('time.month').std('time').mean('month')).plot.contourf(ax=ax,levels=np.arange(0.4,1.5,0.1),cmap=\"RdYlBu_r\",transform=ccrs.PlateCarree(),cbar_kwargs={'label':'2m-Temperature std [°C]'})\n",
    "figcount=add_title(figcount,'Surface temperature interannual monthly standard deviation')\n",
    "\n"
   ]
  },
  {
   "cell_type": "code",
   "execution_count": null,
   "metadata": {},
   "outputs": [],
   "source": [
    "ax=prepare_plot()\n",
    "(T.groupby(\"time.year\").mean('time').std('year')).plot.contourf(ax=ax,levels=np.arange(0.3,0.85,0.05),cmap=\"RdYlBu_r\",transform=ccrs.PlateCarree(),cbar_kwargs={'label':'2m-Temperature std [°C]'})\n",
    "figcount=add_title(figcount,'Surface temperature interannual standard deviation')\n",
    "#plt.savefig(bbox_inches='tight',filename=\"./latex/T_interannual.pdf\")\n"
    "\n"
   ]
  },
  {
   "cell_type": "markdown",
   "metadata": {},
   "source": [
    "Above we see two plots of interannual variation of surface temperature defined in different manners. In the first figure, the interannual standard deviation is calculated for each month and these 12 values are averaged. In the second, the standard deviation of the yearly averages is shown. Depending on what phenomena we wish to observe, we will examine different plots. \n",
    "\n",
    "To understand the difference we consider a thought experiment. Imagine a location with strong intra-annual variability and sharply defined seasons. Typically July and August are by far the hottest months. If the arrival of the hot season changes such that June and July are now the hottest, but the average yearly temperature is unchanged, the first figure will show a nonzero interannual variation, while the second (with a calculation of standard deviation based on yearly averages) is 0. The ratio between the two figures would then be a measure of the interannual variation in the seasonality and comparing this with the standard deviation of the intra-annual variation over all years of the dataset, we could even begin to understand how the effects of changing seasonal 'amplitude' (how much the relative magnitude of hot and cold months change) and seasonal 'timing' (how the months in which the hottest and coldest months occur change) factor into the total interannual variation and which factor is dominant. As a mathematical side note, our first calculation of interannual variation is always greater than the second calculation (averaging over the year first) for any specific location.\n",
    "\n",
    "In both figures the interannual variability in temperature is low in the tropics where we know there is also low intra-annual variability. The Sahel Zone (especially southern Chad) has the highest variability in yearly average temperatures and this with a nearly equal variability calculated by the first method. The ratio of the two method results can be seen in the figure below and is quite low for southern Chad (1.2-1.6) when compared to other regions with high interannual variability. From this we can infer that the phase and amplitude of seasonal temperature fluctuations did not change that much from year to year in Chad and large regions of the eastern Sahel Zone. Most of the interannual variability was simply due to a shift in the average temperature. The arrival time and strength of warm and cold periods is constant from year to year. So by knowing the average temperature of a certain year in the eastern Sahel Zone, we can not deduce much information about the intra-annual variability compared to another year with different average temperature. \n",
    "\n",
    "This is also the case in most of the tropics, where the ratio calculated below is between 1.2 and 1.6. In general, the further one is away from the tropics, the greater the ratio of calculations one and two and therefore the greater the inter-annual variability of intra-annual variability (plus inter-annual variability in timing) of surface temperature. The maximum values are found in Morocco, where the average temperature does not change much interannually, but specific monthly averages can be much different from year to year. This makes planning a vacation to central Morocco quite difficult!\n"
   ]
  },
  {
   "cell_type": "code",
   "execution_count": null,
   "metadata": {},
   "outputs": [],
   "source": [
    "ax=prepare_plot()\n",
    "(T.groupby('time.month').std('time').mean('month')/T.groupby(\"time.year\").mean('time').std('year')).plot.contourf(ax=ax,cmap=\"RdYlBu_r\",transform=ccrs.PlateCarree(),cbar_kwargs={'label':'unitless ratio'})\n",
    "figcount=add_title(figcount,'Ratio of average interannual monthly variability to interannual yearly variability in temperature ')"
   ]
  },
  {
   "cell_type": "code",
   "execution_count": null,
   "metadata": {},
   "outputs": [],
   "source": [
    "ax=prepare_plot()\n",
    "(T.groupby('time.month').mean('time').std('month')).plot.contourf(ax=ax,levels=np.arange(0,11,1), cmap=\"RdYlBu_r\",transform=ccrs.PlateCarree(),cbar_kwargs={'label':'2m-Temperature std [°C]'})\n",
    "figcount=add_title(figcount,'Surface temperature intra-annual standard deviation')\n",
    "\n",
    "plt.savefig(bbox_inches='tight',filename='./latex/T_intra-annual.pdf')"
   ]
  },
  {
   "cell_type": "markdown",
   "metadata": {},
   "source": [
    "We calculated the intra-annual standard deviation of surface temperature by first averaging the data set over each month. Doing this, we got an average monthly surface temperature for each of the 12 months. By calculating the standard deviation of these 12 months, we isolate the seasonal variability of the temperature from the interannual fluctuations caused by ENSO or other phenomena. \n",
    "\n",
    "As expected, the regions of lowest variation are located in the Congo Basin around the equator which is characterised year round by high convective clouds and the effect of the convergence zone. Although the exact location of the ITCZ shifts with the seasons, the convergence region is quite broad and the shift in location does not result in as much variation near the central oscillation location when compared to the regions nearer to the subsidence of the Hadley cell. \n",
    "\n",
    "Additionally, there is low intra-annual variation along the west coast of the Sahara (which borders the Atlantic Ocean and has a more maritime climate). This difference in variation is due to the fact that water has a much higher heat capacity than air and so does not have as large a variation in temperature due to seasonal changes in radiative forcing. If we have a wind blowing over a large region of water, the air in the atmospheric boundary layer approaches that of the water. In the case of the Western Sahara, we typically have northern winds in that region of the Atlantic and a large region of ocean to the north. This results in the near-coast surface temperature variation of the atmosphere closely mirroring that of the ocean (naturally less than a more continental region). \n",
    "\n",
    "A careful observer may note that this decreased variability is not seen in the eastern Sahara at its border with the Red Sea. This could be due to two reasons. One the one hand, the average wind direction at 10 m is parallel to the Egyptian coast in the Red Sea and only turns inland as one reaches the Sudanese coastline. In this region, we do begin to observe a damped variability. The second reason for little decreased variability in temperature as one approaches the coastline of the eastern Sahara could be due to the relatively small surface area of the Red Sea (especially the small width in the direction perpendicular to the Egyptian coastline) and its isolation from large oceanic circulations. 'Below a depth of about 200-250 m the whole Red Sea basin with the exception of hot brine pools is filled with a remarkably constant temperature of about 21.5° C to 21.6° C.' (Al-Barakati, 2009): The surface layer of the sea (especially the Northern Red Sea) has time to react to the strong seasonal forcing in radiation and its temperature adjusts. In contrast to the Atlantic Ocean, which in the region of the western African Coast contains currents transporting water from the North Atlantic southward, the Red Sea surface temperature is more closely correlated with the average surface temperature at its Coast. \n",
    "\n",
    "The highest variability in temperature occurs in the northern Sahara which, during the winter months, can be influenced by arctic air masses from nearby Europe, but experiences extremely warm summers. The further south one travels in the Sahara, the smaller the temperature variability. Analogously, in the southern Hadley cell, one sees a maximum temperature variability in the South African Plateau at a similar latitude deviation from the equator (approximately 30°)."
   ]
  },
  {
   "cell_type": "code",
   "execution_count": null,
   "metadata": {},
   "outputs": [],
   "source": [
    "ax=prepare_plot()\n",
    "(T.max(\"time\")).plot.contourf(ax=ax,levels=15, cmap=\"RdYlBu_r\",transform=ccrs.PlateCarree(),cbar_kwargs={'label':'2m-Temperature [°C]'})\n",
    "figcount=add_title(figcount,'Surface temperature monthly maximum')\n",
    "\n"
   ]
  },
  {
   "cell_type": "markdown",
   "metadata": {},
   "source": [
    "Plotted are the maximum monthly surface temperature not the maximum of the monthly surface temperatures averaged over all the years. This figure need not be continuous since we could have, at adjacent gridpoints, maximum temperatures from two different months or years. The highest monthly surface temperature in our dataset is in the northwestern Sahara, in central Algeria. The lowest monthly temperatures on record, apart from the high elevation regions, are located in the Congo basin. At first glance this would be surprising since this region is located near the Equator, but the color scale overemphasizes the magnitude of the cold. In the Congo Basin, the maximum monthly average temperature is on the order of 26°C. For comparison, the maximum monthly average temperature in Innsbruck is below 20°C. Such a low temperature is found in Africa only at very high elevations in the Southern Plateau and the Ethiopian highlands. As we see, Africa is a very warm continent."
   ]
  },
  {
   "cell_type": "code",
   "execution_count": null,
   "metadata": {},
   "outputs": [],
   "source": [
    "ax=prepare_plot()\n",
    "(T.min(\"time\")).plot.contourf(ax=ax,levels=np.arange(0,28,2), cmap=\"RdYlBu_r\",transform=ccrs.PlateCarree(),cbar_kwargs={'label':'2m-Temperature [°C]'})\n",
    "figcount=add_title(figcount,'Surface temperature monthly minimum')\n",
    "\n",
    "#plt.xticks(np.arange(-20,60,10));"
   ]
  },
  {
   "cell_type": "markdown",
   "metadata": {},
   "source": [
    "The lowest monthly temperatures on record are now plotted. Here we see the highest minimum temperatures are located around the equator where the temperature remains relatively constant with season. This is exactly what we would expect given the information about standard deviation of monthly temperature found in a previous figure. Comparing the color scale in the Congo Basin between this figure and the previous figure with maximum monthly temperatures is helpful. The red region in this figure corresponds to the blue region in the previous figure. In the figure below, we see that there are regions in the Congo where the difference between the warmest and coldest months in more than 30 years is less than 3°C! Naturally there is extremely low inter and intra-annual variability in these regions. \n",
    "\n",
    "The lowest average monthly temperatures measured are quite low in the northern and southern extents of Africa. In the higher regions of the Sahara there have been monthly-averaged temperatures below 6°C. The Atlas Mountains and Drakensberg are even colder, but it is hardly anywhere below 0°C! Along the Atlantic coastline of the western Sahara, one can see the moderating effect on temperature of the ocean (as extensively discussed before). For a given latitude (take 23°N as an example) the coldest month on record is warmer near the coast and colder inland."
   ]
  },
  {
   "cell_type": "code",
   "execution_count": null,
   "metadata": {},
   "outputs": [],
   "source": [
    "ax=prepare_plot()\n",
    "(T.max(\"time\")-T.min(\"time\")).plot.contourf(ax=ax,levels=np.arange(0,30,1), cmap=\"RdYlBu_r\",transform=ccrs.PlateCarree(),cbar_kwargs={'label':'2m-Temperature [°C]'})\n",
    "figcount=add_title(figcount,'Difference between warmest and coldest months on record')"
   ]
  },
  {
   "cell_type": "code",
   "execution_count": null,
   "metadata": {},
   "outputs": [],
   "source": [
    "T_month=T.groupby(\"time.month\").mean(['longitude','time'])\n",
    "T_month.T.plot.contourf(levels=np.arange(10,36,2),cmap=\"RdYlBu_r\",cbar_kwargs={'label':'2m-Temperature [°C]'})\n",
    "figcount=add_title(figcount,'Zonal average of surface temperature')\n",
    "\n",
    "plt.xlabel(\"Month\")\n",
    "plt.ylabel('Latitude [°]')\n",
    "plt.xticks(np.arange(1,13));\n",
    "plt.ylim(-34.5,37.7)\n",
    "plt.savefig(bbox_inches='tight',filename='./latex/zonal_avg_T.pdf')\n"
   ]
  },
  {
   "cell_type": "markdown",
   "metadata": {},
   "source": [
    "Above we see a type of Hovmöller Diagram, with the temporal and spatial coordinates as the abscissa and ordinate axes respectively. This was done to keep the latitude in its natural orientation for ease of understanding. As expected, we see a wave like pattern with a period of a year and a temperature maximum in the north during summer and in the south during winter. The signal is much stronger during the summer than in winter. This is due to the large summer temperature maximum in the Sahara which covers almost the entire sector between 15°N and 30°N. The temperature minimum around 30°S during the northern summer is enhanced due to the high average elevation of the averaging region. During the northern winter, the opposite effect occurs and the maximum temperature is damped at 30°S due to the high elevation and the maximum temperature by latitude shifts northward to nearer 20°S.\n",
    "\n",
    "Overall though, we have a very sinusoidal pattern both spatially and temporally. One could say Africa has a very 'orderly' climate and is influenced to a great extent by season fluctuations in sun elevation angle due to the earth's axial tilt. \n",
    "This can be seen better, when doing the same plot, but averaging meridionally and displaying zonal gradients from the western coast to the Horn of Africa:\n"
   ]
  },
  {
   "cell_type": "code",
   "execution_count": null,
   "metadata": {},
   "outputs": [],
   "source": [
    "T_month_lon=(T.groupby(\"time.month\").mean('time')*weights).sum('latitude')\n",
    "T_month_lon.T.plot.contourf(levels=np.arange(18,33,1),cmap=\"RdYlBu_r\",cbar_kwargs={'label':'2m-Temperature [°C]'})\n",
    "figcount=add_title(figcount,'Meridional average of surface temperature')\n",
    "\n",
    "plt.xlabel(\"Month\")\n",
    "plt.ylabel('Longitude [°]')\n",
    "plt.xticks(np.arange(1,13));\n",
    "plt.ylim(-16,50)\n",
    "plt.yticks(np.arange(-15,55,5));"
   ]
  },
  {
   "cell_type": "markdown",
   "metadata": {},
   "source": [
    "We see that in large parts of the graph the zonal gradient of mean temperature is very low. From the western boundary to about 9°E all landmass of the continent is on the northern hemisphere, leading to the typical seasonal cycle with cold temperatures in December and January that are increasing until July. Directly at the coast the seasonal cycle is neglible, getting stronger further inland. This is due to the difference between maritime and continental climate.\n",
    "Going further to the east, that fraction of landmass located south of the equator increases strongly since the western coast is almost meridionally aligned. Between 15°E and 30°E the landmass distribution is strikingly symmetric about the equator. This causes a sharp change in the seasonal cycle with the maximum solar radiation in the tropics during the equinoxes giving the strongest signal. The northern and southern temperature developments are balancing each other here. Still further east the characteristic boreal seasonality dominates again, since the eastern coast in the south is on average steeper, that is it is more aligned in meridional direction, than in the north. "
   ]
  },
  {
   "cell_type": "markdown",
   "metadata": {},
   "source": [
    "# Precipitation"
   ]
  },
  {
   "cell_type": "code",
   "execution_count": null,
   "metadata": {},
   "outputs": [],
   "source": [
    "prec = xr.open_dataset('./data/ERA-Int-Monthly-P.nc')\n",
    "prec=prec.sel(latitude=lat,longitude=lon)\n",
    "#exlude sea\n",
    "prec=prec.where(inv.lsm==1).tp\n",
    "#Exlude Arabian Peninsula\n",
    "for i,lati in enumerate(prec.latitude.values):\n",
    "    for j,loni in enumerate(prec.longitude.values):\n",
    "        if (loni>34 and lati>12 and inv.lsm.sel(latitude=lati,longitude=loni)==0) or (lati>27 and lati<32 and loni>34):\n",
    "            prec[:,i,j:]=np.nan\n",
    "            break"
   ]
  },
  {
   "cell_type": "code",
   "execution_count": null,
   "metadata": {},
   "outputs": [],
   "source": [
    "ax=prepare_plot()\n",
    "(prec.mean('time')*365).plot.contourf(ax=ax, cmap=\"RdYlBu\",transform=ccrs.PlateCarree(),levels=np.arange(0,3400,200),cbar_kwargs={'label':'Annual precipitation [mm/year]'})\n",
    "figcount=add_title(figcount,'Mean annual precipation')\n",
    "\n"
   ]
  },
  {
   "cell_type": "markdown",
   "metadata": {},
   "source": [
    "This figure shows annual precipitation (given in mm/year). For reference, the average annual precipitation in Innsbruck is 900mm/year. Clearly visible are the large arid regions in the north (Sahara) and the south (Great Karoo, Kalahari Desert). It is interesting to note that Namibia (with an annual precipitaiton of mainly less than 400mm/year) consists of a coastal mountain range. It is quite unusual to see coastal ranges with little precipitation and this indicates that the mean flow in this region is not westerly or we would see more orographic precipitation. Further east, we see the precipitation increase towards the coast, which is indicative of an easterly average flow between 15°S and 30°S.\n",
    "\n",
    "The maximum average annual precipitation is found slightly north of the Congo Basin and the southern coastal regions of West Africa near the equator in the ITCZ. Further east, we see local precipitation maxima caused by orographic precipitation in the Ethiopian Highlands, for example. In contrast to the region further south, precipitation decreases as one travels east across the continent near the equator. At the horn of Africa, there is even a coastal desert. We can again deduce a mean atmospheric flow from these precipitation data, but in this latitudinal region, the flow is more westerly. Looking at average wind speed data in later figures, we will see that there is no strong average westerly flow in this region. In the Congo Basin, there is a weak average westerly flow, but further east to the south of the Horn of Africa, the flow is more southerly in nature. This results in a rain shadow effect in northern Somalia and little precipitation even at the coast."
   ]
  },
  {
   "cell_type": "code",
   "execution_count": null,
   "metadata": {},
   "outputs": [],
   "source": [
    "#Interannual monthly variability and monthly means of precipitation\n",
    "prec_inter=prec.groupby(\"time.month\").std('time')*30\n",
    "prec_intra=prec.groupby(\"time.month\").mean('time')*30\n",
    "prec_inter2=prec.groupby(\"time.year\").mean('time')*365\n"
   ]
  },
  {
   "cell_type": "code",
   "execution_count": null,
   "metadata": {},
   "outputs": [],
   "source": [
    "ax=prepare_plot()\n",
    "(prec_inter.mean('month')).plot.contourf(ax=ax, cmap=\"RdYlBu\",transform=ccrs.PlateCarree(),levels=np.arange(0,90,5),cbar_kwargs={'label':'Annual precipitation std [mm/month]'})\n",
    "figcount=add_title(figcount,'Precipation: interannual monthly standard deviation')\n"
   ]
  },
  {
   "cell_type": "code",
   "execution_count": null,
   "metadata": {},
   "outputs": [],
   "source": [
    "ax=prepare_plot()\n",
    "(prec_inter2.std('year')).plot.contourf(ax=ax, cmap=\"RdYlBu\",transform=ccrs.PlateCarree(),levels=np.arange(0,800,50),cbar_kwargs={'label':'Annual precipitation std [mm/year]'})\n",
    "figcount=add_title(figcount,'Precipation: interannual standard deviation')\n",
    "\n"
   ]
  },
  {
   "cell_type": "markdown",
   "metadata": {},
   "source": [
    "The two plots above should be familiar to the reader as they are the two different calculations of interannual variability for temperature discussed at length in the temperature section, this time repeated for precipitation.\n",
    "\n",
    "The standard deviation of all the yearly averages is seen in the second figure. This metric does not resolve any changes in intra-annual variability. We see a high yearly variability in regions with large average precipitations and especially in regions with large precipitation gradients. That is, we expect to see large interannual variability in regions where the average annual precipitation changes drastically over small spatial scales. Since the regions of precipitation within a certain year can be quite distinct, the exact movement of the ITCZ and the extent of its oscillation can be the difference between a wet and a very dry year in regions of high standard deviation of annual precipitation. \n",
    "\n",
    "Where the effect of this interannual variability is felt the most is in regions with typically low annual precipitation. The occurance of a rain event in such dry regions could be the basis for an entire year of agriculture. Since these simple plots of interannual variability above do not take the \"human factor\" into account, we will also examine the coefficient of variation of precipitation a little later which divides the interannual standard deviation by the average annual precipitation to correct for this bias towards higer precipitation regions."
   ]
  },
  {
   "cell_type": "code",
   "execution_count": null,
   "metadata": {},
   "outputs": [],
   "source": [
    "ax=prepare_plot()\n",
    "(prec_intra.std('month')).plot.contourf(ax=ax, cmap=\"RdYlBu\",transform=ccrs.PlateCarree(),levels=np.arange(0,130,10),cbar_kwargs={'label':'Annual precipitation std [mm/month]'})\n",
    "figcount=add_title(figcount,'Precipation: intra-annual standard deviation')\n",
    "\n"
   ]
  },
  {
   "cell_type": "markdown",
   "metadata": {},
   "source": [
    "In this figure, we looked at intra-annual variability in precipitation by calculating average precipitation values for each month and calculating the standard deviation of these 12 values. By first averaging over all the years, we may underestimate the true seasonal variability if we have shifts in the timing of wet and dry seasons, as these would dampen the signal when averaging over all the years. A wet January 2000, dry February 2000 and dry January 2000, wet February 2000 would not contribute anything to the intra-annual variability although there is a difference in monthly precipitation. \n",
    "\n",
    "The highest values of intra-annual variation are found in regions with distinct seasons. These include the Sahel Zone, which experiences a very long dry season with a short rainy season, which decreases in duration as one advances north into the Sahara. Since its average annual precipitation is not that high though, the Sahel Zone does not have as large of an intra-annual precipitation standard deviation as we would expect based on its climate. Higher values are found halfway between the Sahel and the Equator where the competing effects of increased precipitation (and with it lower seasonality) result in the highest standard deviation. \n",
    "\n",
    "To eliminate the effect of increased precipitation on standard deviation (all other things being equal) and extract a more meaningful metric for intra-annual variation, we look at the intra-annual coefficient of variation below and notice that the band of highest variation is now in the Sahel and matches with our knowledge about the large \"human cost\" of climate variability there."
   ]
  },
  {
   "cell_type": "code",
   "execution_count": null,
   "metadata": {},
   "outputs": [],
   "source": [
    "ax=prepare_plot()\n",
    "(prec_inter/prec_intra).mean('month').plot.contourf(ax=ax, cmap=\"RdYlBu\",transform=ccrs.PlateCarree(),levels=np.arange(0,5.5,0.5),cbar_kwargs={'label':'Coefficient of variation'})\n",
    "figcount=add_title(figcount,'Precipation: interannual monthly coefficient of variation')\n",
    "\n"
   ]
  },
  {
   "cell_type": "code",
   "execution_count": null,
   "metadata": {},
   "outputs": [],
   "source": [
    "ax=prepare_plot()\n",
    "(prec_intra.std('month')/(prec_intra.mean('month'))).plot.contourf(ax=ax, cmap=\"RdYlBu\",transform=ccrs.PlateCarree(),levels=np.arange(0,2.2,0.2),cbar_kwargs={'label':'Coefficient of variation'})\n",
    "figcount=add_title(figcount,'Precipation: intra-annual coefficient of variation')\n",
    "#plt.savefig(bbox_inches=\"tight\",filename=\"./latex/P_interannual.pdf\")\n"
   ]
  },
  {
   "cell_type": "markdown",
   "metadata": {},
   "source": [
    "We correct the interannual standard deviation of precipitation for the average annual precipitation by examining their quotient and calling it the coefficient of variation of precipitation. This metric has an advantage over the standard deviation in that it corrects for the expectedly larger annual variation of precipitation in regions with large precipitation (it can be seen as a type of percentual variability). The coefficient of variation is especially useful when researching the effect of atmospheric variability on the environment. In a region where it rarely ever rains, years with 100mm/year of rain represent a drastic change and can greatly affect human life. A 100mm/year precipitation change in the Congo Basin will go unnoticed.\n",
    "\n",
    "Regions with a high coefficient of variation of precipitation include most regions of the Sahara between 15°N and 30°N and the coastal regions of Namibia and southern Angola. The variation in Namibia and Angola can be due to the large impact of shifting winds on orographic precipitation in the coastal mountain regions. If we have a shift from easterlies to westerlies, the precipitation amount will change from near zero to quite significant values, as the westerlies transport moist Atlantic air to the land, where the air is lifted, cools and condenses to form precipitation. An additional explanation of the large inter-annual variability in this region is the correlation of wet and dry years with the ENSO. This effect is explained in the ENSO section later on. "
   ]
  },
  {
   "cell_type": "markdown",
   "metadata": {},
   "source": [
    "Another measure of the intra-annual variability, which is in our case the seasonality, is the seasonality index $SI$ for a given gridpoint:\n",
    "$$SI=\\frac{1}{P_{\\mathrm{annual}}}\\sum_{n=0}^{12} \\left |P_i-\\frac{P_{\\mathrm{annual}}}{12}\\right |= \\frac{1}{12}\\sum_{n=0}^{12} \\left |\\frac{P_i}{\\overline{P}} -1 \\right|$$\n",
    "where $P_i$ is the average precipitation [in mm] in each month, $P_{\\mathrm{annual}}$ is the average annual precipitation and \\overline{P} is the precipitation averaged over all months. \n",
    "(Taken from *Walsh and Lawler* (1981))"
   ]
  },
  {
   "cell_type": "code",
   "execution_count": null,
   "metadata": {},
   "outputs": [],
   "source": [
    "SI=np.abs((prec_intra/prec_intra.mean('month')-1)).sum('month')/12\n",
    "SI=SI.where(SI!=0)\n",
    "ax=prepare_plot()\n",
    "(SI**2).plot.contourf(ax=ax, cmap=\"RdYlBu\",transform=ccrs.PlateCarree(),levels=np.arange(0,2.2,0.2),cbar_kwargs={'label':'Seasonality index'})\n",
    "figcount=add_title(figcount,'Annual precipation: Seasonality index')\n",
    "\n"
   ]
  },
  {
   "cell_type": "markdown",
   "metadata": {},
   "source": [
    "This is  basically the same as the coefficient of variation, only that here the absolute values of the devitation from the mean (instead of the squares due to the standard deviation) are added up."
   ]
  },
  {
   "cell_type": "code",
   "execution_count": null,
   "metadata": {},
   "outputs": [],
   "source": [
    "fig=plt.figure()\n",
    "fig.suptitle('{0}: Seasonally averaged precipitation'.format(figcount))\n",
    "figcount+=1\n",
    "for i,s in enumerate(['DJF','MAM','JJA','SON']):\n",
    "    ax=prepare_plot([2,2,i+1])\n",
    "    prec_s = prec.where(T['time.season'] == s)\n",
    "    prec_s= prec_s.rolling(min_periods=3, center=True, time=3).mean()\n",
    "    prec_s = prec_s.groupby('time.year').mean('time')[1:, ...].mean('year')\n",
    "    im=prec_s.plot.contourf(ax=ax,  add_colorbar=False,cmap=\"RdYlBu\",transform=ccrs.PlateCarree(),levels=np.arange(0,11,1))\n",
    "    plt.title(s)\n",
    "fig.subplots_adjust(right=0.85)\n",
    "cbar_ax = fig.add_axes([0.85, 0.1, 0.02, 0.8])\n",
    "fig.colorbar(im, cax=cbar_ax,label=\"Daily precipitation [mm/day]\")\n",
    "#fig.savefig(bbox_inches='tight',filename='./latex/seasonal_prec.pdf')"
   ]
  },
  {
   "cell_type": "markdown",
   "metadata": {},
   "source": [
    "During the winter months there are divergent northeasterlies north of the equator which result in subsidence and suppressed rainfall. As the ITCZ is at its southernmost extent during this time of the year, the precipitation maxima are shifted south and the Angolan high plateau has a distinct wet season. The North African coast experiences rainfall due to increased frontal activity during this season and in fact every season apart from the summer (during which the region is dry). The precipitation in North Africa is mostly confined to the north of the Atlas Mountains in Morocco and Algeria.\n",
    "\n",
    "In the spring, the ITCZ moves north, and with it the precipitation maxima. We especially see an increase in precipitation in Eastern Africa between 0° and 15°N. This is the first of two distinct wet seasons in this area. The local maximum in the western Ethiopian Highlands due to orographic precipitation is again distinctly visible.\n",
    "\n",
    "During the northern summer, the ITCZ has reached its northernmost extent. Although the surface pressure signal of the ITCZ has an amplitude of approximately 20°, the fluctuation in the precipitation signal to the north of the equator is clearly damped. There is never a large seasonal average precipitation north of 15°N in the Sahara. During the winter, the precipitation begins south of approximately 5°N. So, the amplitude of the fluctuation in the northern half is approximately 10°. Compare this to the surface pressure fluctuation amplitude of approximately 20° and the earth orbital axis tilt of 23.5°. In the southern half of Africa, the seasonal precipitation fluctuations more closely resemble the pressure fluctuations. This is due to the aforementioned orientation of the main continental axes. The southern half of Africa is exclusively east of 15°E and is connected to the northern half with no oceanic interruptions. The latitudinal range of land east of 15°E is from 30°N to 35°S (75°). In contrast, west of 15°E, we have ocean south of 5°N and a continental meridional extent of 5°N to 35°N (approximately half of that of the eastern continental region). This explains the increased oscillation of the ITCZ in the south of Africa. It is due to the fact that the southern half of Africa is exclusively in the more continental eastern half.\n",
    "\n",
    "In the fall months, the precipitation distribution is quite similar to that of the spring, with the second seasonal maximum visible in eastern Africa.\n",
    "\n",
    "Since the location of the ITCZ fluctuates over a larger meridional range in the east of Africa when compared to west, the annual precipitation is spread over a larger region and we naturally see smaller values of annual precipitation for given locations in the east. If we were to sum the precipitation meridionally (arriving at a plot of annual precipitation vs longitude) there would not be such a large apparent precipitation maximum in the African west. "
   ]
  },
  {
   "cell_type": "code",
   "execution_count": null,
   "metadata": {},
   "outputs": [],
   "source": [
    "P_month=prec.groupby(\"time.month\").mean(['longitude','time'])\n",
    "P_month.T.plot.contourf(levels=np.arange(0,10,0.5),cmap=\"RdYlBu\",cbar_kwargs={'label':'Daily precipation [mm/day]'})\n",
    "figcount=add_title(figcount,'Zonal average of precipitation')\n",
    "\n",
    "plt.xlabel(\"Month\")\n",
    "plt.ylabel('Latitude [°]')\n",
    "plt.xticks(np.arange(1,13));\n",
    "plt.ylim(-34.5,37.7)\n",
    "#plt.savefig(bbox_inches='tight',filename='./latex/zonal_avg_prec.pdf')\n"
   ]
  },
  {
   "cell_type": "markdown",
   "metadata": {},
   "source": [
    "In this Hovmöller Diagram, the amplitude difference between the northern and southern hemispheres discussed above is clearly visible. As we already know, around the equator there is no strong intra-annual variation in precipitation, and this is visible in the diagram. The band of strongest intra-annual variability is narrower in the northern hemisphere than in the southern hemisphere since the slope of the boundary separating strong and weak precipitation is shallower. In other words, the boundary between strong and weak precipitation moves further (in ° latitude) per month in the southern hemisphere than in the northern hemisphere.\n",
    "\n",
    "The reason for this is the orientation of the continental axes explained above. If we were to extend our zonal average to include the southern Atlantic Ocean south of 5°N and west of 15°E, the amplitude in the southern oscillation would be damped and the plot would appear more spatially symmetrical. "
   ]
  },
  {
   "cell_type": "code",
   "execution_count": null,
   "metadata": {},
   "outputs": [],
   "source": [
    "P_month_lon=(prec.groupby(\"time.month\").mean('time')*weights).sum('latitude')\n",
    "P_month_lon.T.plot.contourf(levels=np.arange(0,3.6,0.2),cmap=\"RdYlBu\",cbar_kwargs={'label':'Daily precipation [mm/day]'})\n",
    "figcount=add_title(figcount,'Meridional average of precipitation')\n",
    "\n",
    "plt.xlabel(\"Month\")\n",
    "plt.ylabel('Longitude [°]')\n",
    "plt.xticks(np.arange(1,13));\n",
    "plt.ylim(-16,50)\n",
    "plt.yticks(np.arange(-15,55,5));"
   ]
  },
  {
   "cell_type": "markdown",
   "metadata": {},
   "source": [
    "EXPLANATION: SIMILAR TO ABOVE FOR TEMPERATURE"
   ]
  },
  {
   "cell_type": "markdown",
   "metadata": {},
   "source": [
    "# Relation between coefficient of variation and annual precipitation"
   ]
  },
  {
   "cell_type": "markdown",
   "metadata": {},
   "source": [
    "In figure 15 we saw that the coefficient of interannual variation is very high in the extremely dry Sahara desert. Could it be that it is only so high because of the extreme dryness?\n",
    "To investigate this we plotdeed, we plot the coefficient of variation $c_v$ against the mean annual precipitation as a scatter plot for all lattice points in Africa. Then we will fit  an appropriate function to the data and look at deviations from this characteristic curve."
   ]
  },
  {
   "cell_type": "code",
   "execution_count": null,
   "metadata": {},
   "outputs": [],
   "source": [
    "cof=(prec_inter2.std('year')/prec_inter2.mean('year'))\n",
    "#flatten and remove nans\n",
    "cof_flat=cof.values.flatten()\n",
    "cof_flat=cof_flat[~np.isnan(cof_flat)]\n",
    "\n",
    "p_mean=prec_inter2.mean('year')\n",
    "#flatten, remove nans and scale to m/yr\n",
    "p_mean_flat=p_mean.values.flatten()/1000\n",
    "p_mean_flat=p_mean_flat[~np.isnan(p_mean_flat)]\n",
    "plt.figure()\n",
    "plt.scatter(p_mean_flat,cof_flat,s=0.5)\n",
    "plt.grid()\n",
    "plt.xlim(-0.1,4)\n",
    "plt.ylim(0,3)\n",
    "plt.xlabel('Mean annual precipitation [m/yr]')\n",
    "plt.ylabel('Coefficient of variation')\n",
    "add_title(figcount,\"Correlation between $c_v$ and mean precipitation rate\")"
   ]
  },
  {
   "cell_type": "markdown",
   "metadata": {},
   "source": [
    "We can see that the coefficient of variation is very high for very low precipitation rates $P$, decreases rapidly and flattens out for wetter regions. Following *Maussion et al. (2014)* and *Jurković and Pasarić (2013)* we fit the simple rational function \n",
    "\\begin{equation}\n",
    "f_1(P)=\\frac{B}{P+C}+A\n",
    "\\end{equation}\n",
    "to the data using the parameters of *Jurković and Pasarić* as initial values.\n",
    "\n",
    "However, the function does not seem to describe our data very well. Therefore, we introduce an additional parameter $D$ such that:\n",
    "\\begin{equation}\n",
    "f_1(P)=\\frac{B}{P^D+C}+A\n",
    "\\end{equation}\n",
    "In figure {{figcount}} the two fitted curves are displayed together with the mean and standard deviation in bins of width 0.1 m/yr. "
   ]
  },
  {
   "cell_type": "code",
   "execution_count": null,
   "metadata": {},
   "outputs": [],
   "source": [
    "def cv(P,A,B,C):\n",
    "    #model function: coefficient of variation dependent on annual precipitation P\n",
    "    return B/(C+P)+A\n",
    "def cv2(P,A,B,C,D):\n",
    "    #model function: coefficient of variation dependent on annual precipitation P\n",
    "    return B/(C+P**D)+A\n",
    "#curve fit (use parameters from Jurkovic and Pasaric (2012) as initial values)\n",
    "popt, pcov =curve_fit(cv,p_mean_flat,cof_flat,p0=[0.1,0.015,0.006])\n",
    "popt2, pcov2 =curve_fit(cv2,p_mean_flat,cof_flat,p0=[0.1,0.015,0.006,1])\n",
    "\n",
    "#bin data for plot: binsize 0.1 m/yr\n",
    "binned=stats.binned_statistic(p_mean_flat,cof_flat,bins=np.arange(0,4,0.1))\n",
    "std=stats.binned_statistic(p_mean_flat,cof_flat,'std',bins=np.arange(0,4,0.1))\n",
    "#display bin mean in the middle of the bin -> add 0.05 m/yr\n",
    "plt.errorbar(binned[1][:-1]+0.05,binned[0],std[0],label='Binned data: mean and standard deviation')\n",
    "plt.xlabel('Mean annual precipitation [m/yr]')\n",
    "plt.ylabel('Coefficient of variation')\n",
    "plt.xlim(-0.1,4)\n",
    "p=np.arange(0,4,0.01)\n",
    "plt.ylim(0,1.7)\n",
    "plt.plot(p,cv(p,*popt),label='Fitted curve 1 $c_v(P)=B/(P+C)+A$'+'\\n with $A={0}, B={1}$, $C={2}$'.format(*np.round(popt,2)))\n",
    "plt.plot(p,cv2(p,*popt2),label='Fitted curve 2 $c_v(P)=B/(P^D+C)+A$'+'\\n with $A={0}, B={1}$, $C={2}$, $D={3}$'.format(*np.round(popt2,2)))\n",
    "\n",
    "plt.grid()\n",
    "plt.legend(frameon=True)\n",
    "add_title(figcount, \"Binned data and fitted curves\")\n",
    "#plt.savefig(bbox_inches='tight',filename=\"./latex/cv_adv\")\n",
    "popt,pcov"
   ]
  },
  {
   "cell_type": "markdown",
   "metadata": {},
   "source": [
    "Now we look at deviations from fit curve 2. Figure {{figcount}} shows for each location the deviation of the coefficient of variation with respect to what would be expected from equation 2 given the mean annual precipitation at that location.\\n\n",
    "Now it is obvious that the Sahara indeed has large inter-annual variability that cannot be explained only with the low precipitation rate.\n",
    "\n",
    "<span class=\"mark\">REFERENCE TO PAPER</span>\n"
   ]
  },
  {
   "cell_type": "code",
   "execution_count": null,
   "metadata": {},
   "outputs": [],
   "source": [
    "ax=prepare_plot()\n",
    "(cof-cv2(p_mean,*popt2)).plot.contourf(ax=ax, cmap=\"RdYlBu\",levels=np.arange(0.0,2.2,0.2),transform=ccrs.PlateCarree(),cbar_kwargs={'label':'Coefficient of variation anomaly'})\n",
    "figcount=add_title(figcount,'Precipation: interannual coefficient of variation anomaly')\n",
    "#plt.savefig(bbox_inches='tight',filename=\"./latex/cv__adv_map\")\n",
    "\n",
    " "
   ]
  },
  {
   "cell_type": "markdown",
   "metadata": {},
   "source": [
    "# Sea-level pressure and surface winds  "
   ]
  },
  {
   "cell_type": "code",
   "execution_count": null,
   "metadata": {},
   "outputs": [],
   "source": [
    "slp = xr.open_dataset('./data/ERA-Int-MonthlyAvg-UVSLP.nc')\n",
    "slp=slp.sel(latitude=lat,longitude=lon)\n",
    "#slp=slp.where(inv.lsm==1)\n",
    "SLP_m_zonal=slp.msl.mean([\"month\",'longitude'])/100\n"
   ]
  },
  {
   "cell_type": "code",
   "execution_count": null,
   "metadata": {},
   "outputs": [],
   "source": [
    "ax=prepare_plot()\n",
    "slp_mean=slp.mean(\"month\")\n",
    "(slp_mean.msl/100).plot.contourf(ax=ax, cmap=\"RdYlBu_r\",transform=ccrs.PlateCarree(),levels=np.arange(1008,1021,1),cbar_kwargs={'label':'Pressure [hPa]'})\n",
    "s=3\n",
    "strm=ax.quiver(slp_mean.longitude[::s],slp_mean.latitude[::s],slp_mean.u10[::s,::s].values,slp_mean.v10[::s,::s].values,transform=ccrs.PlateCarree(),scale_units='inches',scale=30)\n",
    "figcount=add_title(figcount,'Mean sea level pressure and wind at 10 m')\n",
    "\n",
    "qk = plt.quiverkey(strm, 1.06,1.03, 10, r'$10 \\frac{m}{s}$', labelpos='W')"
   ]
  },
  {
   "cell_type": "markdown",
   "metadata": {},
   "source": [
    "In this figure we see mean sea level pressure and wind averaged over the entire data set. There are low pressure anomalies in eastern Sudan and in other parts of the southern Sahara. Regions with high pressure on land include the Atlas Mountains, the Ethiopian Highlands, and the Drakensberg of South Africa. Since the sea level pressure at these locations is just an estimate from the pressure at the elevation of the grid point, it could be that we are seeing artificial high pressure regions due to an inaccurate slp calculation. We can be sure of the pressure over the oceans though, and this is where we the distinct location of the three gyres is visible with counter-clockwise and clockwise winds in the Southern and Northern Hemispheres, respectively. \n",
    "\n",
    "Another issue with this figure is the effect of averaging wind vectors over an extended period with potentially large internal variability (such as a year). As an example, a place with constant wind of 20m/s whose direction changes by 30° every month will, when averaged over the entire year, appear as a location with no wind at all. So to understand the circulation pattern, and especially its seasonal changes, we look at seasonally averaged fields below. \n"
   ]
  },
  {
   "cell_type": "code",
   "execution_count": null,
   "metadata": {},
   "outputs": [],
   "source": [
    "fig=plt.figure()\n",
    "fig.suptitle('{0}: Seasonally averaged pressure and wind field'.format(figcount))\n",
    "figcount+=1\n",
    "for i,m in enumerate([['DJF',[12,1,2]],['MAM',[3,4,5]],['JJA',[6,7,8]],['SON',[9,10,11]]]):\n",
    "    ax=prepare_plot([2,2,i+1])\n",
    "    s=4\n",
    "    slp_s=slp.sel(month=m[1]).mean('month')\n",
    "    (slp_s.msl/100).plot.contourf(ax=ax ,extend='both',levels=np.arange(1005,1025,2.5),cmap=\"RdYlBu_r\",transform=ccrs.PlateCarree(),cbar_kwargs={'label':'Pressure [hPa]'})\n",
    "    strm=ax.quiver(slp_s.longitude[::s],slp_s.latitude[::s],slp_s.u10[::s,::s].values,slp_s.v10[::s,::s].values,transform=ccrs.PlateCarree(), scale_units='inches',scale=50)\n",
    "    qk = plt.quiverkey(strm, 0.9,1.06, 10, r'$10 \\frac{m}{s}$', labelpos='W')\n",
    "    plt.title(m[0])\n",
    "#fig.savefig(\"seasonal_p_wind.pdf\")"
   ]
  },
  {
   "cell_type": "markdown",
   "metadata": {},
   "source": [
    "During the northern summer, the pressure minimum is located in the Sahara between 15° and 30°N and corresponds to the low level convergence of the Hadley Cell. In fall and winter, this low pressure region shifts southward, especially over the eastern half of the continent. This pattern has been discussed extensively in the precipitation section above. More interesting are the changing wind patterns with season. The winds associated with the high pressure gyres over the oceans are relatively constant. In West Africa (from south-west in summer to north-east in winter) and also in the Horn of Africa we see that the wind direction changes by more than 120°. Over East Africa, this effect is directly related to the Indian Monsoon and we see a northeasterly wind in the winter which is also the Indian dry season. During the summer months, the \"meridionally oriented East African Highlands act as a mechanical barrier to the South Indian Ocean south-east trades and concentrate the low-level flow intercepting the barrier crossing the Equator as an intense low-level flow called the Somalia Jet\" (Webster and Fasullo 2003). \n",
    "\n",
    "Wenn the sun reaches its zenith in the Northern Hemisphere, the Saharan low pressure system is also evident"
   ]
  },
  {
   "cell_type": "markdown",
   "metadata": {},
   "source": [
    "# General circulation over Africa and atmospheric cross-sections "
   ]
  },
  {
   "cell_type": "code",
   "execution_count": null,
   "metadata": {},
   "outputs": [],
   "source": [
    "uvwz = xr.open_dataset('./data/ERA-Int-MonthlyAvg-4D-UVWZ.nc').sel(latitude=lat,longitude=lon)\n",
    "#uvwz=uvwz.where(inv.lsm==1)\n",
    "z_zonal=uvwz.z.mean(\"longitude\")\n",
    "z_m_zonal=uvwz.z.mean([\"month\",'longitude'])/9.81\n",
    "z_m_zonal_dev=z_m_zonal-z_m_zonal.mean('latitude')\n"
   ]
  },
  {
   "cell_type": "markdown",
   "metadata": {},
   "source": [
    "ADJUST PLOT!"
   ]
  },
  {
   "cell_type": "code",
   "execution_count": null,
   "metadata": {},
   "outputs": [],
   "source": [
    "uvwz.u.sel(longitude= 0).sel(month=8).plot.contourf(levels=np.arange(-20,20,2),cbar_kwargs={'label':'u [m/s]'})\n",
    "plt.ylabel(\"Pressure [hPa]\")\n",
    "plt.grid()\n",
    "plt.xlim(lat_a)\n",
    "plt.ylim(1000,50)\n",
    "figcount=add_title(figcount,'cross section of zonal wind at 0°E in August')\n",
    "\n",
    "#plt.savefig(bbox_inches='tight',filename='./latex/zonal_wind.pdf')"
   ]
  },
  {
   "cell_type": "code",
   "execution_count": null,
   "metadata": {},
   "outputs": [],
   "source": [
    "p_low=900\n",
    "p_mid=700\n",
    "p_up=200\n",
    "wind_low=uvwz.mean('month').sel(level=p_low)\n",
    "wind_mid=uvwz.mean('month').sel(level=p_mid)\n",
    "wind_up=uvwz.mean('month').sel(level=p_up)\n",
    "s=3\n",
    "for wind,p in [[wind_low,p_low],[wind_mid,p_mid],[wind_up,p_up]]:\n",
    "    fig=plt.figure()\n",
    "    ax=prepare_plot()\n",
    "    u_total=(wind.u**2+wind.v**2)**0.5\n",
    "    (wind.z/9.81).plot.contourf(ax=ax, levels=12, cmap=\"RdYlBu_r\",transform=ccrs.PlateCarree(),cbar_kwargs={'label':'Geopotential height [m]'})\n",
    "    strm=ax.quiver(wind.longitude[::s],wind.latitude[::s],wind.u[::s,::s].values,wind.v[::s,::s].values,transform=ccrs.PlateCarree())\n",
    "    figcount=add_title(figcount,'Wind and geopotential at {1} hPa'.format(figcount,p))\n",
    "    \n",
    "    qk = plt.quiverkey(strm, 0.95,1.03, 20, r'$10 \\frac{m}{s}$', labelpos='W')\n",
    "    #fig.savefig(bbox_inches='tight',filename=\"./latex/wind_gpm{0}.pdf\".format(p))\n"
   ]
  },
  {
   "cell_type": "markdown",
   "metadata": {},
   "source": [
    "At the 900hPa level, we see regions of higher geopotential height at around 30° north and south of the Equator. These are the regions where we have subsidence from the Hadley Cell. As one nears the Equator, the geopotential height decreases and this is understandable as we have a region of low level convergence and rising air associated with the ITCZ. This signal of high and low geopotential heights at 900hPa due to the Hadley Cell is naturally clearer in the western part of the continent as the ITCZ is more stationary there and we are looking at the yearly average.\n",
    "\n",
    "Now at the 200hPa level, which is typically located at the top of the troposphere, we would expect an opposite signal. Above regions of tropospheric rising air (the ITCZ) we have a local maximum in pressure immediately below the more stably stratified stratosphere. (If we look at a region of constant height and find a pressure maximum it corresponds to a geopotential height maximum at that pressure level.) Similarly, regions of subsidence and low level horizontal divergence have horizontal convergence and lower geopotential heights above them at 200hPa. These regions are found just to the north and to the south of the African continental extremes.\n",
    "\n",
    "The strongest winds are found (by the geostrophic wind relation) and assuming constant Coriolis parameter (and thereby latitude) where the gradients in the geopotential heights are strongest. This occurs near 30°N and 30°S at the 200hPa level and the geopotential heights at this pressure surface are much less influenced by the topography of the ground and the relative location of oceans. At the 900hPa level we see at 30°S two very strong geopotential height maxima at 30°S: one in the Atlantic and the other in the Indian Ocean. Another height maximum is found in the North Atlantic to the west of the Iberian Peninsula. These permanent surface wind structures drive ocean currents and their locations correspond to three of the five major ocean gyres (North Atlantic, South Atlantic, and Indian Ocean Gyres). Ocean gyres circulate clockwise in the Northern Hemisphere and counterclockwise in the Southern Hemisphere. They are the reason that the western coasts of continents typically have cooler sea temperatures than the eastern coasts.\n",
    "\n",
    "At 700hPa (approximately 3km asl), the Easterly African Jet is very visible over western Africa between 0° and 15°N. Large temperature and moisture gradients between the Sahara Desert and the much cooler Gulf of Guinea result in vertical wind shear as explained by the thermal wind relationship (Cook 1999). In the Northern Hemisphere, the geostrophic wind increases with height in the direction where warmer temperatures are to the right and colder temperatures to the left. In the absence of a temperature gradient at a certain height level, there is no vertical wind shear. This means that the maximum geostrophic wind has been reached at the level where the horizontal temperature gradient vanishes. In the case of the Easterly African Jet, this happens at a height of approximately 3km, which is why we chose to examine the 700hPa level in addition to 900hPa and 200hPa. We would expect the temperature gradient between the Sahara and the ocean to the south to be largest near the surface and the vertical wind shear to be strongest at lower levels. Between 700hPa and 200hPa we must have, on average, an opposite horizontal temperature gradient (colder air over the Sahara) since the geostrophic wind decreases with height until it is essentially nonexistant at 200hPa. The latitudinal location of the upper level jet changes very strongly with the seasons and so averages to about 0 between 10°S and 10°N. In the cross-section below, we even see an easterly wind of greater than 15m/s at 200hPa in August. In the yearly average, we see no significant easterlies anywhere over Africa!\n",
    "\n",
    "The exact location and strength of the Easterly African Jet changes over the course of the year, reaching its northernmost extent (16-17°N) in August and its maximum wind speed (50km/h) at a slightly lower latitude in September (Cook 1999). The thermal wind relation and the geostrophic wind balance both rely on the presence of a coriolis force. For a given gradient in temperature or geopotential, we would expect a larger thermal or geostrophic wind, respectively, further from the Equator. To verify this information with our dataset, we would need to replot the above figures for specific months instead of just the annual average. Changes in the Easterly African Jet due to desertification of the Sahel Region and subsequent variations in ground heating and temperature gradients are of some interest to climate researchers since the jet is responsible for cyclone formation and Hurricane activity in the Gulf of Mexico and along the eastern United States (Donnelly and Jonathan, 2007)."
   ]
  },
  {
   "cell_type": "code",
   "execution_count": null,
   "metadata": {},
   "outputs": [],
   "source": [
    "uvwz.u.sel(longitude= 0).sel(month=8).plot.contourf(levels=np.arange(-20,20,2),cbar_kwargs={'label':'u [m/s]'})\n",
    "plt.ylabel(\"Pressure [hPa]\")\n",
    "plt.grid()\n",
    "plt.xlim(lat_a)\n",
    "plt.ylim(1000,50)\n",
    "figcount=add_title(figcount,'cross section of zonal wind at 0°E in August')\n",
    "\n",
    "#pdf.savefig('zonal_wind.pdf')"
   ]
  },
  {
   "cell_type": "markdown",
   "metadata": {},
   "source": [
    "# ENSO\n"
   ]
  },
  {
   "cell_type": "markdown",
   "metadata": {},
   "source": [
    "The ENSO phenomenon that is connected with irregular temperature and precipitation anomalies in the Pacific can also be observed in parts of Africa. As the figures below show, drier and warmer conditions are observed in southern Africa during El Niño events and wetter and cooler conditions during La Niña events. In the following we want to investigate this correlation with the ERA-Interim data."
   ]
  },
  {
   "cell_type": "markdown",
   "metadata": {},
   "source": [
    "**{{figcount}}: El Niño, global impact**"
   ]
  },
  {
   "cell_type": "markdown",
   "metadata": {},
   "source": [
    "<img  src=\"figures/el_nino.png\"/>"
   ]
  },
  {
   "cell_type": "markdown",
   "metadata": {},
   "source": [
    "source: http://www.cpc.ncep.noaa.gov/products/analysis_monitoring/impacts/warm.gif"
   ]
  },
  {
   "cell_type": "code",
   "execution_count": null,
   "metadata": {},
   "outputs": [],
   "source": [
    "figcount+=1"
   ]
  },
  {
   "cell_type": "markdown",
   "metadata": {},
   "source": [
    "**{{figcount}}: La Niña, global impact**"
   ]
  },
  {
   "cell_type": "markdown",
   "metadata": {},
   "source": [
    "<img  src=\"figures/la_nina.png\"/>"
   ]
  },
  {
   "cell_type": "markdown",
   "metadata": {},
   "source": [
    "source: http://www.cpc.ncep.noaa.gov/products/analysis_monitoring/impacts/cold.gif"
   ]
  },
  {
   "cell_type": "markdown",
   "metadata": {},
   "source": [
    "## Temperature"
   ]
  },
  {
   "cell_type": "markdown",
   "metadata": {},
   "source": [
    "First we compute the mean temperatures in the December to February season for each year. The El Niño composite anomalies are then given as the difference between the average of these temperatures during El Niño years and the total average of them. The same we do for La Niña \n",
    "\n",
    "The ENSO years between 1980 and 2014 are defined as DJF mean SST anomalies (January and February define the year) of  $>\\pm 0.5$ in the Niño 3.4 (Oceanic Niño Index - ONI) region and can be seen on http://www.cpc.ncep.noaa.gov/products/analysis_monitoring/ensostuff/ensoyears.shtml.\n"
   ]
  },
  {
   "cell_type": "code",
   "execution_count": null,
   "metadata": {},
   "outputs": [],
   "source": [
    "nino_yrs = [1980, 1983, 1987, 1988, 1992, 1995, 1998, 2003, 2005, 2007, 2010]\n",
    "nina_yrs = [1985, 1989, 1996, 1999, 2000, 2001,2008, 2011, 2012]"
   ]
  },
  {
   "cell_type": "code",
   "execution_count": null,
   "metadata": {},
   "outputs": [],
   "source": [
    "t2m_djf = T.where(T['time.season'] == 'DJF')\n",
    "t2m_djf = t2m_djf.rolling(min_periods=3, center=True, time=3).mean()\n",
    "t2m_djf = t2m_djf.groupby('time.year').mean('time')"
   ]
  },
  {
   "cell_type": "code",
   "execution_count": null,
   "metadata": {},
   "outputs": [],
   "source": [
    "djf_anomaly_nino=t2m_djf.sel(year=nino_yrs).mean('year')-t2m_djf.mean('year')\n",
    "ax=prepare_plot()\n",
    "djf_anomaly_nino.plot.contourf(ax=ax,extend='both',levels=np.arange(-1.4,1.4,0.2),cmap=\"RdYlBu_r\", transform=ccrs.PlateCarree(),cbar_kwargs={'label':'Temperature anomaly [°C]'})\n",
    "figcount=add_title(figcount,'El Ni\\u00F1o DJF composite anomalies - Temperature')\n",
    "\n",
    "\n",
    "plt.figure()\n",
    "djf_anomaly_nina=t2m_djf.sel(year=nina_yrs).mean('year')-t2m_djf.mean('year')\n",
    "ax=prepare_plot()\n",
    "djf_anomaly_nina.plot.contourf(ax=ax,extend='both',levels=np.arange(-1.2,1.4,0.2),cmap=\"RdYlBu_r\", transform=ccrs.PlateCarree(),cbar_kwargs={'label':'Temperature anomaly [°C]'})\n",
    "figcount=add_title(figcount,'La Ni\\u00F1a DJF composite anomalies - Temperature')\n",
    "\n"
   ]
  },
  {
   "cell_type": "markdown",
   "metadata": {},
   "source": [
    "The largest impact is found in southern Africa, As in figures {{figcount-3}} and {{figcount-4}}, we find warmer and colder temperatures there during El Niño and La Niña events, respectively.\n",
    "But also in north-western Africa and Sudan a correlation is visible.\n",
    "<span class=\"burk\">SHORT EXPLANATION WITH CIRCULATION MECHANISM -> PAPER</span>"
   ]
  },
  {
   "cell_type": "markdown",
   "metadata": {},
   "source": [
    "## Precipitation"
   ]
  },
  {
   "cell_type": "markdown",
   "metadata": {},
   "source": [
    "We do the same for precipitation and find as in figures  {{figcount-3}} and {{figcount-4}} drier and wetter conditions in southern Africa during El Niño and La Niña events, respectively. "
   ]
  },
  {
   "cell_type": "code",
   "execution_count": null,
   "metadata": {},
   "outputs": [],
   "source": [
    "#p_djf = prec.resample(freq='QS-DEC',dim='time').where(prec['time.month']==12)\n",
    "p_djf = prec.where(prec['time.season']=='DJF')\n",
    "p_djf = p_djf.rolling(min_periods=3, center=True, time=3).mean()\n",
    "p_djf = p_djf.groupby('time.year').mean('time')"
   ]
  },
  {
   "cell_type": "code",
   "execution_count": null,
   "metadata": {},
   "outputs": [],
   "source": [
    "p_anomaly_nino=p_djf.sel(year=nino_yrs).mean('year')-p_djf.mean('year')\n",
    "ax=prepare_plot()\n",
    "p_anomaly_nino.plot.contourf(ax=ax,cmap=\"RdYlBu\",extend='both',levels=np.arange(-1.4,1.6,0.2),transform=ccrs.PlateCarree(),cbar_kwargs={'label':'Precipitation anomaly [mm/day]'})\n",
    "figcount=add_title(figcount,'El Ni\\u00F1o DJF composite anomalies - Precipitation')\n",
    "\n",
    "##pdf.savefig(bbox_inches='tight',filename='./latex/elnino_prec.pdf')\n",
    "\n",
    "plt.figure()\n",
    "p_anomaly_nina=p_djf.sel(year=nina_yrs).mean('year')-p_djf.mean('year')\n",
    "ax=prepare_plot()\n",
    "p_anomaly_nina.plot.contourf(ax=ax,cmap=\"RdYlBu\",extend='both',levels=np.arange(-1.4,1.6,0.2),transform=ccrs.PlateCarree(),cbar_kwargs={'label':'Precipitation anomaly [mm/day]'})\n",
    "figcount=add_title(figcount,'La Ni\\u00F1a DJF composite anomalies - Precipitation')\n",
    "\n",
    "##pdf.savefig(bbox_inches='tight',filename='./latex/lanino_prec.pdf')"
   ]
  },
  {
   "cell_type": "markdown",
   "metadata": {},
   "source": [
    "<span class=\"burk\">DELETE FOR REPORT</span>"
   ]
  },
  {
   "cell_type": "code",
   "execution_count": null,
   "metadata": {},
   "outputs": [],
   "source": [
    "#plot for the presentation\n",
    "djf_anomaly_nino=t2m_djf.sel(year=nino_yrs).mean('year')-t2m_djf.mean('year')\n",
    "p_anomaly_nino=p_djf.sel(year=nino_yrs).mean('year')-p_djf.mean('year')\n",
    "djf_anomaly_nina=t2m_djf.sel(year=nina_yrs).mean('year')-t2m_djf.mean('year')\n",
    "p_anomaly_nina=p_djf.sel(year=nina_yrs).mean('year')-p_djf.mean('year')\n",
    "\n",
    "fig=plt.figure()\n",
    "fig.suptitle('El Ni\\u00F1o (top) and La Ni\\u00F1a (bottom) DJF composite anomalies')\n",
    "ax=prepare_plot([2,2,1]) \n",
    "im1=djf_anomaly_nino.plot.contourf(ax=ax,extend='both',add_colorbar=False,levels=np.arange(-1.2,1.4,0.2),cmap=\"RdYlBu_r\", transform=ccrs.PlateCarree())\n",
    "plt.title('Temperature')  \n",
    "ax=prepare_plot([2,2,2])  \n",
    "im2=p_anomaly_nino.plot.contourf(ax=ax,cmap=\"RdYlBu\",add_colorbar=False,extend='both',levels=np.arange(-1.4,1.6,0.2),transform=ccrs.PlateCarree())\n",
    "plt.title('Precipitation')\n",
    "ax=prepare_plot([2,2,3])\n",
    "djf_anomaly_nina.plot.contourf(ax=ax,extend='both',add_colorbar=False,levels=np.arange(-1.2,1.4,0.2),cmap=\"RdYlBu_r\", transform=ccrs.PlateCarree())\n",
    "plt.title('Temperature')\n",
    "ax=prepare_plot([2,2,4])\n",
    "p_anomaly_nina.plot.contourf(ax=ax,cmap=\"RdYlBu\",add_colorbar=False,extend='both',levels=np.arange(-1.4,1.6,0.2),transform=ccrs.PlateCarree())\n",
    "plt.title('Precipitation')\n",
    "\n",
    "fig.subplots_adjust(right=0.85)\n",
    "cbar_ax1 = fig.add_axes([0.85, 0.1, 0.01, 0.8])\n",
    "cbar_ax2 = fig.add_axes([0.43, 0.1, 0.01, 0.8])\n",
    "fig.colorbar(im1, cax=cbar_ax1,label=\"Temperature anomaly [°C]\")\n",
    "fig.colorbar(im2, cax=cbar_ax2,label=\"Precipitation anomaly [mm/day]\")\n",
    "fig.savefig(bbox_inches='tight',filename='./latex/elnino_T_prec.pdf')"
   ]
  },
  {
   "cell_type": "markdown",
   "metadata": {},
   "source": [
    "# Regionally averaged time series"
   ]
  },
  {
   "cell_type": "markdown",
   "metadata": {},
   "source": [
    "As we saw before the strongest impact of ENSO can be observed in southern Africa. We will now take a closer look at this region.\n",
    "We average the temperature and precipitation DJF data over the region between 15°W and 38°W and between 15°S and 30°S and compute the deviations from the time average for each year. For the meridional average we need to make sure that the normalization factor is the sum of only the latitudes in that region. Additionally we plot the El Niño and La Niña years as vertical lines.\n",
    "\n",
    "We clearly see the strong correlations stated above. However, the temperature anomalies vary from one ENSO year to another quite strongly. Is this only because of the variation of the Oceanic Niño Index (ONI)?\n",
    "To find out about this we plot the difference between the temperature anomalies and the ONI for all ENSO years. The temperature anomalies in Southern Africa are almost always smaller than in the Niño 3.4 region and vary quite strongly from year to year.\n",
    "This is also due to a shifting of the location of strongest impact from year to year. The map time series of temperature anomalies during El Niño years, figures {{figcount+5}}, shows this clearly.\n",
    "In these plots we see the strong interannual variability of the Sahara region once again.\n",
    "\n"
   ]
  },
  {
   "cell_type": "code",
   "execution_count": null,
   "metadata": {},
   "outputs": [],
   "source": [
    "#define region with latitude and longitude: slices to select from array and array for the limits of the plots\n",
    "\n",
    "#Sahel:\n",
    "#latb=slice(20, 12)\n",
    "#lat_b=[12,20]\n",
    "#lonb=slice(-18, 30)\n",
    "#lon_b=[-18,30]\n",
    "\n",
    "#Southern Africa:\n",
    "latb=slice(-15, -30)\n",
    "lat_b=[-30,-15]\n",
    "lonb=slice(15, 38)\n",
    "lon_b=[15,38]\n",
    "\n",
    "\n",
    "#Compute yearly temperature anomalies\n",
    "T_djf_r=t2m_djf.sel(latitude=latb,longitude=lonb)[1:]\n",
    "\n",
    "#weights\n",
    "weights2=T_djf_r.mean('year') #to take all landsurface points in the desired region in southern Africa\n",
    "weights2=weights2/weights2*np.cos(np.deg2rad(T_djf_r.latitude)) #and attribute the corresponding weight to it\n",
    "weights2=weights2/weights2.sum('latitude') #normalization factor: sum of all defined weights at a specific longitude\n",
    "    \n",
    "\n",
    "T_r_avg=(T_djf_r*weights2).mean('longitude').sum('latitude')\n",
    "T_r_dev=T_r_avg-T_r_avg.mean()\n",
    "\n",
    "#Compute yearly precipitation anomalies\n",
    "p_djf_r=p_djf.sel(latitude=latb,longitude=lonb)[1:]\n",
    "p_r_avg=(p_djf_r*weights2).mean('longitude').sum('latitude')\n",
    "p_r_dev=p_r_avg-p_r_avg.mean()\n"
   ]
  },
  {
   "cell_type": "code",
   "execution_count": null,
   "metadata": {},
   "outputs": [],
   "source": [
    "T_r_dev.plot(marker='*',color='green',label='Temperature anomalies')\n",
    "plt.grid()\n",
    "leg=False\n",
    "for i in nino_yrs:\n",
    "    # Plot all nino years as vertical lines(but only one label)\n",
    "     if leg==False:\n",
    "        plt.plot([i,i],[-2,2],'r--',label='El Ni\\u00F1o years')\n",
    "        leg=True\n",
    "     else:\n",
    "         plt.plot([i,i],[-2,2],'r--')\n",
    "plt.legend(frameon=True)\n",
    "plt.ylabel('DJF temperature anomaly [°C]')\n",
    "figcount=add_title(figcount,'DJF temperature anomalies in southern Africa')\n",
    "\n"
   ]
  },
  {
   "cell_type": "code",
   "execution_count": null,
   "metadata": {},
   "outputs": [],
   "source": [
    "T_r_dev.plot(marker='*',color='green', label='Temperature anomalies')\n",
    "plt.grid()\n",
    "leg=False\n",
    "for i in nina_yrs:\n",
    "    if leg==False:\n",
    "        plt.plot([i,i],[-2,2],'b--',label='La Ni\\u00F1a years')\n",
    "        leg=True\n",
    "    else:\n",
    "        plt.plot([i,i],[-2,2],'b--')\n",
    "plt.legend(frameon=True)\n",
    "plt.ylabel('DJF temperature anomaly [°C]')\n",
    "figcount=add_title(figcount,'DJF temperature anomalies in southern Africa')\n",
    "\n"
   ]
  },
  {
   "cell_type": "code",
   "execution_count": null,
   "metadata": {},
   "outputs": [],
   "source": [
    "p_r_dev.plot(marker='*',color='green',label='Precipitation anomalies')\n",
    "plt.grid()\n",
    "leg=False\n",
    "for i in nino_yrs:\n",
    "     if leg==False:\n",
    "        plt.plot([i,i],[-2.8,2.8],'r--',label='El Ni\\u00F1o years')\n",
    "        leg=True\n",
    "     else:\n",
    "         plt.plot([i,i],[-2.8,2.8],'r--')\n",
    "plt.legend(frameon=True)\n",
    "plt.ylim(-2,2.8)\n",
    "plt.ylabel('DJF precipitation  anomaly [mm/day]')\n",
    "figcount=add_title(figcount,'DJF precipitation  anomalies in southern Africa')\n",
    "\n"
   ]
  },
  {
   "cell_type": "code",
   "execution_count": null,
   "metadata": {},
   "outputs": [],
   "source": [
    "p_r_dev.plot(marker='*',color='green',label='Precipitation anomalies')\n",
    "plt.grid()\n",
    "leg=False\n",
    "for i in nina_yrs:\n",
    "     if leg==False:\n",
    "        plt.plot([i,i],[-2.8,2.8],'b--',label='La Ni\\u00F1a years')\n",
    "        leg=True\n",
    "     else:\n",
    "         plt.plot([i,i],[-2.8,2.8],'b--')\n",
    "plt.legend(frameon=True)\n",
    "plt.ylim(-2,2.8)\n",
    "plt.ylabel('DJF precipitation  anomaly [mm/day]')\n",
    "figcount=add_title(figcount,'DJF precipitation  anomalies in southern Africa')\n",
    "\n"
   ]
  },
  {
   "cell_type": "code",
   "execution_count": null,
   "metadata": {},
   "outputs": [],
   "source": [
    "#oceanic nino index for the djf nino and nina years\n",
    "nino_dev=np.array([0.6,2.1,1.1,0.8,1.6,0.9,2.1,0.9,0.7,0.7,1.3])\n",
    "nina_dev=-1*np.array([0.9,1.6,0.9,1.4,1.6,0.7,1.4,1.3,0.7])\n",
    "\n",
    "T_r_dev_nino=T_r_dev.sel(year=nino_yrs)-nino_dev\n",
    "T_r_dev_nina=T_r_dev.sel(year=nina_yrs)-nina_dev"
   ]
  },
  {
   "cell_type": "code",
   "execution_count": null,
   "metadata": {},
   "outputs": [],
   "source": [
    "T_r_dev_nino.plot(marker='*',color='red', label='El Niño')\n",
    "T_r_dev_nina.plot(marker='*',color='blue', label='La Niña')\n",
    "plt.grid()\n",
    "plt.legend(frameon=True)\n",
    "plt.ylabel('$\\Delta T$ - ONI [°C]')\n",
    "\n",
    "figcount=add_title(figcount,'$\\Delta T-$ONI during ENSO years in southern Africa ')\n",
    "\n",
    "plt.savefig(bbox_inches='tight',filename=\"enso_anomaly.pdf\")"
   ]
  },
  {
   "cell_type": "code",
   "execution_count": null,
   "metadata": {},
   "outputs": [],
   "source": [
    "for i,y in enumerate(nino_yrs[:]):\n",
    "    djf_anomaly_nino=t2m_djf.sel(year=y)-t2m_djf.mean('year')\n",
    "    if i%2==0:\n",
    "        plt.figure()\n",
    "    ax=prepare_plot(subplot=[1,2,(i%2)+1])\n",
    "    if i==0:\n",
    "        plt.suptitle('{0}: DJF temperature anomalies for all El Niño years'.format(figcount))\n",
    "        figcount+=1\n",
    "    if i==len(nino_yrs)-1:\n",
    "        djf_anomaly_nino.plot.contourf(ax=ax,extend='both',levels=np.arange(-2.4,2.8,0.4),cmap=\"RdYlBu_r\", transform=ccrs.PlateCarree(),cbar_kwargs={'orientation':'horizontal'})\n",
    "    else:\n",
    "        djf_anomaly_nino.plot.contourf(ax=ax,add_colorbar=False,extend='both',levels=np.arange(-2.4,2.8,0.4),cmap=\"RdYlBu_r\", transform=ccrs.PlateCarree())\n",
    "\n",
    "    plt.title(str(y))\n",
    "    #figcount=add_title(figcount,'El Ni\\u00F1o DJF temperature anomalies {0}'.format(y))\n",
    "    \n"
   ]
  },
  {
   "cell_type": "markdown",
   "metadata": {},
   "source": [
    "# Conclusion"
   ]
  },
  {
   "cell_type": "markdown",
   "metadata": {},
   "source": [
    "Even though the African continent is free of large topographic barriers, has a simple L-shape and relatively constant annual solar insolation at the top of the atmosphere, understanding its climate is no easy feat. In this report, we wanted to strike a balance between (1) reducing our analysis to several driving factors in order to understand the way they combine to influence the African climate and (2) taking such a simplistic approach that we arrive at false conclusions about their true dynamical connections. \n",
    "\n",
    "After all, Africa is just a part of the larger Earth and attempting to understand its climate, as we largely did, by focusing on data confined to the continent, is difficult to do without oversimplifying things. If there was a phenomenon we could not explain with some confidence, we did not attempt to find a less convincing line of reasoning which supports its existence but did not convince us.  \n",
    "\n",
    "There are many things that can be understood about climate variability by combining different statistical analyses of the weather, but we must remember that there are several limitations placed on us by the data we have. For one, it has already been monthly averaged to save space. This does not allow us to resolve any intra-annual variability on scales of less than one month. Additionally, the data has only a limited spatial resolution of (0.75° squared) and the values are not obtained from true observations, but an interpolation of observations with model runs. Due to this complicated data assimiliation process, we can not make any statements about the reliability of the data or our subsequent analyses. Any conclusions made in this project should therefore be taken with a grain of salt."
   ]
  },
  {
   "cell_type": "markdown",
   "metadata": {},
   "source": [
    "# References"
   ]
  },
  {
   "cell_type": "markdown",
   "metadata": {},
   "source": [
    "- Maussion, F., D. Scherer, T. Mölg, E. Collier, J. Curio, and R. Finkelnburg, 2014: Precipitation Seasonality and Variability over the Tibetan Plateau as Resolved by the High Asia Reanalysis. J. Climate, 27, 1910–1927, doi: 10.1175/JCLI-D-13-00282.1.\n",
    "- Sokol Jurković, R. and Pasarić, Z. (2013), Spatial variability of annual precipitation using globally gridded data sets from 1951 to 2000. Int. J. Climatol., 33: 690–698. doi:10.1002/joc.3462\n",
    "- Al-Barakati, Alaa MA. \"Formation of a seasonal thermocline in the Red Sea.\" Pakistan Journal of Marine Sciences (2009).\n",
    "- Cook, Kerry H. \"Generation of the African easterly jet and its role in determining West African precipitation.\" Journal of climate 12.5 (1999): 1165-1184.\n",
    "- Donnelly, Jeffrey P., and Jonathan D. Woodruff. \"Intense hurricane activity over the past 5,000 years controlled by El Niño and the West African monsoon.\" Nature 447.7143 (2007): 465-468.\n",
    "\n",
    "NOAA webpages:\n",
    "- http://www.cpc.ncep.noaa.gov/products/analysis_monitoring/lanina/cold_impacts.shtml\n",
    "- http://www.cpc.ncep.noaa.gov/products/analysis_monitoring/impacts/warm_impacts.shtml\n",
    "- http://www.cpc.ncep.noaa.gov/products/analysis_monitoring/ensostuff/ensoyears.shtml"
   ]
  },
  {
   "cell_type": "code",
   "execution_count": null,
   "metadata": {},
   "outputs": [],
   "source": []
  }
 ],
 "metadata": {
  "hide_input": false,
  "kernelspec": {
   "display_name": "Python 3",
   "language": "python",
   "name": "python3"
  },
  "language_info": {
   "codemirror_mode": {
    "name": "ipython",
    "version": 3
   },
   "file_extension": ".py",
   "mimetype": "text/x-python",
   "name": "python",
   "nbconvert_exporter": "python",
   "pygments_lexer": "ipython3",
   "version": "3.5.2"
  },
  "toc": {
   "colors": {
    "hover_highlight": "#DAA520",
    "running_highlight": "#FF0000",
    "selected_highlight": "#FFD700"
   },
   "moveMenuLeft": true,
   "nav_menu": {
    "height": "262px",
    "width": "251px"
   },
   "navigate_menu": true,
   "number_sections": true,
   "sideBar": true,
   "threshold": 4,
   "toc_cell": false,
   "toc_section_display": "block",
   "toc_window_display": false
  }
 },
 "nbformat": 4,
 "nbformat_minor": 1
}
